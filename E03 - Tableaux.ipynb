{
 "cells": [
  {
   "cell_type": "markdown",
   "id": "42ecc8e3-f8f6-4ed9-b481-e4c85da1643c",
   "metadata": {},
   "source": [
    "# Tableaux (ou listes)"
   ]
  },
  {
   "cell_type": "markdown",
   "id": "787b6e33-47d7-4c55-b34c-2d1d04648a72",
   "metadata": {},
   "source": [
    "1. Créer une liste\n",
    "\n",
    "Crée une liste nommée fruits qui contient les éléments suivants : \"pomme\", \"banane\", \"orange\", \"poire\". Ensuite, affiche la liste."
   ]
  },
  {
   "cell_type": "code",
   "execution_count": null,
   "id": "dd0a0d9a-fb3c-46da-b6cb-a47343daef0b",
   "metadata": {},
   "outputs": [],
   "source": []
  },
  {
   "cell_type": "markdown",
   "id": "fb04f3f4-ee16-4ee5-8845-420e93e7afa2",
   "metadata": {},
   "source": [
    "2. Accéder à un élément de la liste\n",
    "\n",
    "Affiche le premier élément de la liste fruits."
   ]
  },
  {
   "cell_type": "code",
   "execution_count": null,
   "id": "421f788d-a593-4c38-a3ee-27ed6a44cd06",
   "metadata": {},
   "outputs": [],
   "source": []
  },
  {
   "cell_type": "markdown",
   "id": "e7333aaa-751e-49d6-85a3-5cd8acb28c4a",
   "metadata": {},
   "source": [
    "3. Ajouter un élément à la liste\n",
    "\n",
    "Ajoute le fruit \"kiwi\" à la liste fruits, puis affiche la nouvelle liste."
   ]
  },
  {
   "cell_type": "code",
   "execution_count": null,
   "id": "2191f563-fd55-4213-9553-5bb15869ee01",
   "metadata": {},
   "outputs": [],
   "source": []
  },
  {
   "cell_type": "markdown",
   "id": "47e7492f-239b-4c45-889d-8ee7e4da309a",
   "metadata": {},
   "source": [
    "4. Supprimer un élément de la liste\n",
    "\n",
    "Supprime \"banane\" de la liste fruits et affiche la liste modifiée."
   ]
  },
  {
   "cell_type": "code",
   "execution_count": null,
   "id": "ce8c61d1-af6f-465e-9212-75c273ac1800",
   "metadata": {},
   "outputs": [],
   "source": []
  },
  {
   "cell_type": "markdown",
   "id": "96e4e25b-bea9-4d07-82a3-f2a7713aaf4a",
   "metadata": {},
   "source": [
    "5. Longueur de la liste\n",
    "\n",
    "Affiche la longueur de la liste fruits (le nombre d’éléments dans la liste)."
   ]
  },
  {
   "cell_type": "code",
   "execution_count": null,
   "id": "b1a6a82e-0aa1-4f74-989f-3929107dbfb6",
   "metadata": {},
   "outputs": [],
   "source": []
  }
 ],
 "metadata": {
  "kernelspec": {
   "display_name": "Python 3 (ipykernel)",
   "language": "python",
   "name": "python3"
  },
  "language_info": {
   "codemirror_mode": {
    "name": "ipython",
    "version": 3
   },
   "file_extension": ".py",
   "mimetype": "text/x-python",
   "name": "python",
   "nbconvert_exporter": "python",
   "pygments_lexer": "ipython3",
   "version": "3.12.6"
  }
 },
 "nbformat": 4,
 "nbformat_minor": 5
}
