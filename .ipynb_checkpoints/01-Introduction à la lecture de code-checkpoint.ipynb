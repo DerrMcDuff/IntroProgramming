{
 "cells": [
  {
   "cell_type": "markdown",
   "id": "61bc47b9-d061-4544-927c-cdb90c41a9d7",
   "metadata": {
    "editable": true,
    "slideshow": {
     "slide_type": ""
    },
    "tags": []
   },
   "source": [
    "# Introduction à la lecture de code"
   ]
  },
  {
   "cell_type": "code",
   "execution_count": 167,
   "id": "0b8b99dd-c56e-4417-ba68-16d2e1d629b2",
   "metadata": {
    "editable": true,
    "slideshow": {
     "slide_type": ""
    },
    "tags": []
   },
   "outputs": [
    {
     "data": {
      "text/plain": [
       "-2"
      ]
     },
     "execution_count": 167,
     "metadata": {},
     "output_type": "execute_result"
    }
   ],
   "source": [
    "def additionner(a:int, b:int):\n",
    "    return a+b\n",
    "\n",
    "#additionner(3, 4)\n",
    "additionner(-5, 3)\n",
    "#additionner(100, 1)"
   ]
  },
  {
   "cell_type": "code",
   "execution_count": 173,
   "id": "c418fe3b-9a83-4c76-9fbc-bddc06d35ded",
   "metadata": {},
   "outputs": [
    {
     "data": {
      "text/plain": [
       "True"
      ]
     },
     "execution_count": 173,
     "metadata": {},
     "output_type": "execute_result"
    }
   ],
   "source": [
    "def est_long_de_six_caractères(texte:str):\n",
    "    return len(texte) == 6\n",
    "\n",
    "#est_long_de_six_caractères(\"Bonjour tout le monde\")\n",
    "#est_long_de_six_caractères(\"Ah\")\n",
    "#est_long_de_six_caractères(\"Maison\")\n",
    "#est_long_de_six_caractères(\"Pas ire\")\n",
    "est_long_de_six_caractères(\"a b c \")"
   ]
  },
  {
   "cell_type": "code",
   "execution_count": 179,
   "id": "ce2f4aed-3783-417b-9977-0c3311a59127",
   "metadata": {},
   "outputs": [
    {
     "data": {
      "text/plain": [
       "False"
      ]
     },
     "execution_count": 179,
     "metadata": {},
     "output_type": "execute_result"
    }
   ],
   "source": [
    "def est_dix(a:int):\n",
    "    return a == 10\n",
    "\n",
    "#est_dix(2)\n",
    "est_dix(-10)\n",
    "#est_dix(10)"
   ]
  },
  {
   "cell_type": "code",
   "execution_count": 152,
   "id": "37459fc3-7f91-4886-99f1-e89052097863",
   "metadata": {},
   "outputs": [],
   "source": [
    "def est_plus_haut_que_cinq(a:int):\n",
    "    if a > 5:\n",
    "        return True\n",
    "    else:\n",
    "        return False\n",
    "    \n",
    "#est_plus_haut_que_cinq(10000000)\n",
    "#est_plus_haut_que_cinq(5.1)\n",
    "#est_plus_haut_que_cinq(1)\n",
    "#est_plus_haut_que_cinq(5)"
   ]
  },
  {
   "cell_type": "markdown",
   "id": "c6a69356-ccd1-44d5-9081-94758bddab04",
   "metadata": {},
   "source": [
    "## Fonctions secrètes"
   ]
  },
  {
   "cell_type": "code",
   "execution_count": 153,
   "id": "1b222343-bd5d-48b8-aaf5-e56620d2405c",
   "metadata": {},
   "outputs": [],
   "source": [
    "def est_plus_haut_que_cinq(a:int):\n",
    "    if a > 5:\n",
    "        return True\n",
    "    else:\n",
    "        return False\n",
    "\n",
    "def secret0(a:int):\n",
    "    return (a > 5)"
   ]
  },
  {
   "cell_type": "code",
   "execution_count": 180,
   "id": "72394e7d-b6db-4bbc-a4ae-3fddd2f46e0f",
   "metadata": {},
   "outputs": [
    {
     "data": {
      "text/plain": [
       "False"
      ]
     },
     "execution_count": 180,
     "metadata": {},
     "output_type": "execute_result"
    }
   ],
   "source": [
    "def secret_1(a:int):\n",
    "    return a == 5\n",
    "\n",
    "secret_1(10)"
   ]
  },
  {
   "cell_type": "code",
   "execution_count": 181,
   "id": "4d4ccb89-5550-41c9-a93e-64779aeebd5d",
   "metadata": {},
   "outputs": [
    {
     "data": {
      "text/plain": [
       "-4"
      ]
     },
     "execution_count": 181,
     "metadata": {},
     "output_type": "execute_result"
    }
   ],
   "source": [
    "def secret_2(a:int, b:int):\n",
    "    return a-b\n",
    "\n",
    "secret_2(1,5)"
   ]
  },
  {
   "cell_type": "code",
   "execution_count": 184,
   "id": "c5177a70-8cbc-4004-ae52-76aa222d301a",
   "metadata": {},
   "outputs": [
    {
     "data": {
      "text/plain": [
       "True"
      ]
     },
     "execution_count": 184,
     "metadata": {},
     "output_type": "execute_result"
    }
   ],
   "source": [
    "def secret_3(texte:str):\n",
    "    return \"a\" in texte\n",
    "\n",
    "secret_3(\"allo\")\n"
   ]
  },
  {
   "cell_type": "markdown",
   "id": "92fca53d-a04c-451e-bb9a-8aa4335cb3d1",
   "metadata": {},
   "source": [
    "*Description:*"
   ]
  },
  {
   "cell_type": "code",
   "execution_count": 187,
   "id": "9d07f580-3076-4a82-ba7b-d5f2ed7b0530",
   "metadata": {},
   "outputs": [
    {
     "data": {
      "text/plain": [
       "'bonjoua'"
      ]
     },
     "execution_count": 187,
     "metadata": {},
     "output_type": "execute_result"
    }
   ],
   "source": [
    "def secret_4(texte1:str, texte2:str):\n",
    "    if len(texte1) > len(texte2):\n",
    "        return texte1\n",
    "    else:\n",
    "        return texte2\n",
    "\n",
    "secret_4(\"bonjour\",\"bonjoua\")"
   ]
  },
  {
   "cell_type": "markdown",
   "id": "036cdd9a-55f5-4302-93cb-913b1f205bbf",
   "metadata": {},
   "source": [
    "*Description:*"
   ]
  },
  {
   "cell_type": "markdown",
   "id": "40d09361-52f3-4d70-815d-645438c9d58b",
   "metadata": {},
   "source": [
    "## Défis"
   ]
  },
  {
   "cell_type": "markdown",
   "id": "fc9ae18e-b0c7-484f-90e1-ed28f6c296e6",
   "metadata": {},
   "source": [
    "1. Décrire les fonctions suivantes en remplissant la description\n",
    "2. Bonus: Trouver un bon nom de fonction!"
   ]
  },
  {
   "cell_type": "markdown",
   "id": "d440a838-4373-475a-b81a-cd84029d461f",
   "metadata": {},
   "source": [
    "**A**"
   ]
  },
  {
   "cell_type": "code",
   "execution_count": 176,
   "id": "225a1e8c-8bd0-44ee-ae32-b2811ad19a11",
   "metadata": {},
   "outputs": [
    {
     "data": {
      "text/plain": [
       "14"
      ]
     },
     "execution_count": 176,
     "metadata": {},
     "output_type": "execute_result"
    }
   ],
   "source": [
    "def fonction_a(a:int):\n",
    "    return a+a\n",
    "\n",
    "fonction_a(7)"
   ]
  },
  {
   "cell_type": "markdown",
   "id": "666ed3e4-d0da-4216-81f1-d78128e6696c",
   "metadata": {},
   "source": [
    "*Description:*"
   ]
  },
  {
   "cell_type": "markdown",
   "id": "a8b648f6-780c-4856-9edb-1f853a01f33c",
   "metadata": {},
   "source": [
    "**B**"
   ]
  },
  {
   "cell_type": "code",
   "execution_count": 159,
   "id": "c497e976-bac1-4d1e-91ed-29d3b319a9c1",
   "metadata": {},
   "outputs": [],
   "source": [
    "def fonction_b():\n",
    "    return \"patate\""
   ]
  },
  {
   "cell_type": "markdown",
   "id": "03cb471c-7ce2-487c-9af3-d5733316a13d",
   "metadata": {},
   "source": [
    "*Description:*"
   ]
  },
  {
   "cell_type": "markdown",
   "id": "e25064dd-cddf-4122-b26f-85b1c000cce9",
   "metadata": {},
   "source": [
    "**C**"
   ]
  },
  {
   "cell_type": "code",
   "execution_count": 189,
   "id": "a1384401-e7fb-49ec-ad9c-5ff7261df3aa",
   "metadata": {},
   "outputs": [
    {
     "data": {
      "text/plain": [
       "'ao'"
      ]
     },
     "execution_count": 189,
     "metadata": {},
     "output_type": "execute_result"
    }
   ],
   "source": [
    "def fonction_c(texte:str, morceau:str):\n",
    "    return texte.replace(morceau,\"\")\n",
    "\n",
    "fonction_c(\"allo\",\"l\")\n"
   ]
  },
  {
   "cell_type": "markdown",
   "id": "d30b65dc-4d8d-4af9-b4ca-4c70bf00450c",
   "metadata": {},
   "source": [
    "*Description:*"
   ]
  },
  {
   "cell_type": "markdown",
   "id": "9df67b1c-8abc-41e0-897f-0295f0ccc9a6",
   "metadata": {},
   "source": [
    "**D**"
   ]
  },
  {
   "cell_type": "code",
   "execution_count": 191,
   "id": "1696bab7-284b-41e7-abff-ca5455e3db74",
   "metadata": {},
   "outputs": [
    {
     "data": {
      "text/plain": [
       "\"Je m'appelle dereckJe m'appelle dereckJe m'appelle dereckJe m'appelle dereckJe m'appelle dereckJe m'appelle dereck\""
      ]
     },
     "execution_count": 191,
     "metadata": {},
     "output_type": "execute_result"
    }
   ],
   "source": [
    "def fonction_d(texte:str, repetition:int):\n",
    "    texteFinal = \"\"\n",
    "    for _ in range(repetition):\n",
    "      texteFinal += texte\n",
    "    return texteFinal\n",
    "#\"6\"+\"7\"\n",
    "fonction_d(\"Je m'appelle dereck\",6)"
   ]
  },
  {
   "cell_type": "markdown",
   "id": "8dd11401-a256-4008-9f75-400f79027c93",
   "metadata": {},
   "source": [
    "*Description:*"
   ]
  },
  {
   "cell_type": "markdown",
   "id": "3ac6f303-fc54-4649-9e9f-e3b3f5c74713",
   "metadata": {},
   "source": [
    "**E**"
   ]
  },
  {
   "cell_type": "code",
   "execution_count": 162,
   "id": "e3894ef9-6eed-43af-814b-dc1ab1628d73",
   "metadata": {},
   "outputs": [],
   "source": [
    "def fonction_e(texte:str, repetition:int):\n",
    "    texteFinal = \"\"\n",
    "    for _ in range(repetition):\n",
    "      texteFinal += texte\n",
    "    return texteFinal"
   ]
  },
  {
   "cell_type": "markdown",
   "id": "9b077de8-30fd-411e-ac24-1d394863cdbb",
   "metadata": {},
   "source": [
    "*Description:*"
   ]
  },
  {
   "cell_type": "markdown",
   "id": "cd3cb443-2153-4c0b-96d9-8b1afd5b584a",
   "metadata": {},
   "source": [
    "**F**"
   ]
  },
  {
   "cell_type": "code",
   "execution_count": 163,
   "id": "a65f5b0e-f99e-4f6f-b702-ecfa66a9cfe2",
   "metadata": {},
   "outputs": [],
   "source": [
    "def fonction_f(texte:str, morceau:str):\n",
    "    return morceau in texte"
   ]
  },
  {
   "cell_type": "markdown",
   "id": "88ba83d9-55d0-40a7-951d-96d586095497",
   "metadata": {},
   "source": [
    "*Description:*"
   ]
  },
  {
   "cell_type": "markdown",
   "id": "4d2dc683-badc-4baf-85ab-5883c95a2805",
   "metadata": {},
   "source": [
    "**G**"
   ]
  },
  {
   "cell_type": "code",
   "execution_count": 192,
   "id": "ebdb2582-b0a1-47d6-9028-8cd55d02f013",
   "metadata": {},
   "outputs": [
    {
     "data": {
      "text/plain": [
       "15"
      ]
     },
     "execution_count": 192,
     "metadata": {},
     "output_type": "execute_result"
    }
   ],
   "source": [
    "from datetime import datetime\n",
    "\n",
    "def fonction_g(annee_de_naissance:int):\n",
    "    annee_courante = datetime.now().year\n",
    "    return annee_courante - annee_de_naissance\n",
    "\n",
    "fonction_g(2009)"
   ]
  },
  {
   "cell_type": "markdown",
   "id": "fe5de542-b747-4811-b8a5-2b935621b52b",
   "metadata": {},
   "source": [
    "*Description:*"
   ]
  },
  {
   "cell_type": "markdown",
   "id": "0a7e2267-c5f8-40ec-bee4-d8e703e69107",
   "metadata": {},
   "source": [
    "**H**"
   ]
  },
  {
   "cell_type": "code",
   "execution_count": 202,
   "id": "4b0038dc-776d-49b6-8f86-658ecb02fc28",
   "metadata": {},
   "outputs": [
    {
     "name": "stdout",
     "output_type": "stream",
     "text": [
      "8\n"
     ]
    }
   ],
   "source": [
    "def fonction_h(texte:str, lettre:str):\n",
    "    if (len(lettre) != 1):\n",
    "        print(\"Erreur: Une seule lettre est demandée\")\n",
    "        return -1\n",
    "    index = 0\n",
    "    for lettre_du_texte in texte:\n",
    "        if (lettre_du_texte == lettre):\n",
    "            return index\n",
    "        index += 1\n",
    "    return -1\n",
    "\n",
    "print(fonction_h(\"Il fait beau dehors\",\"b\"))"
   ]
  },
  {
   "cell_type": "markdown",
   "id": "71cbd3c1-4d8b-44df-8c8f-7b953c54d929",
   "metadata": {},
   "source": [
    "*Description:*"
   ]
  }
 ],
 "metadata": {
  "kernelspec": {
   "display_name": "Python 3 (ipykernel)",
   "language": "python",
   "name": "python3"
  },
  "language_info": {
   "codemirror_mode": {
    "name": "ipython",
    "version": 3
   },
   "file_extension": ".py",
   "mimetype": "text/x-python",
   "name": "python",
   "nbconvert_exporter": "python",
   "pygments_lexer": "ipython3",
   "version": "3.12.4"
  }
 },
 "nbformat": 4,
 "nbformat_minor": 5
}
