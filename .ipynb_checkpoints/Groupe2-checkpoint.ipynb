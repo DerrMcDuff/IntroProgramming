{
 "cells": [
  {
   "cell_type": "code",
   "execution_count": 2,
   "id": "f5372a64-f3d1-4a51-87d0-2d1dd477517b",
   "metadata": {},
   "outputs": [
    {
     "name": "stdout",
     "output_type": "stream",
     "text": [
      "500.0\n",
      "150.0\n"
     ]
    }
   ],
   "source": [
    "def air_triangle(base,hauteur):\n",
    "    return base*hauteur/2\n",
    "\n",
    "print(air_triangle(10,100))\n",
    "print(air_triangle(30,10))"
   ]
  },
  {
   "cell_type": "code",
   "execution_count": 3,
   "id": "19b3fb2d-fa96-4105-80b4-213290918e59",
   "metadata": {},
   "outputs": [
    {
     "data": {
      "text/plain": [
       "True"
      ]
     },
     "execution_count": 3,
     "metadata": {},
     "output_type": "execute_result"
    }
   ],
   "source": [
    "triangle1 = air_triangle(30,40)\n",
    "triangle2 = air_triangle(50,20)\n",
    "\n",
    "triangle1 >= triangle2"
   ]
  },
  {
   "cell_type": "markdown",
   "id": "383a16d5-93b3-476b-b1c9-bbb45cd7968a",
   "metadata": {},
   "source": [
    "# Les tableaux (listes)"
   ]
  },
  {
   "cell_type": "code",
   "execution_count": 12,
   "id": "ac8a46f4-5d34-47be-96b2-65a9a7222013",
   "metadata": {},
   "outputs": [
    {
     "name": "stdout",
     "output_type": "stream",
     "text": [
      "[7, 4, 2, 1, 0]\n",
      "[0, 1, 2, 4, 7]\n",
      "[0, 1, 4, 7]\n",
      "[0, 1, 4, 7, 1000]\n",
      "['aaa', 'bbb']\n"
     ]
    }
   ],
   "source": [
    "# [ ]\n",
    "liste = [7,4,2,1,0]\n",
    "print(liste)\n",
    "liste.sort()\n",
    "print(liste)\n",
    "liste.remove(2)\n",
    "print(liste)\n",
    "liste.append(1000)\n",
    "print(liste)\n",
    "listeTexte = [\"aaa\",\"bbb\"]\n",
    "print(listeTexte)"
   ]
  },
  {
   "cell_type": "code",
   "execution_count": null,
   "id": "104a2c2d-10d4-4e2b-8b81-90f33a99fe92",
   "metadata": {},
   "outputs": [],
   "source": []
  }
 ],
 "metadata": {
  "kernelspec": {
   "display_name": "Python 3 (ipykernel)",
   "language": "python",
   "name": "python3"
  },
  "language_info": {
   "codemirror_mode": {
    "name": "ipython",
    "version": 3
   },
   "file_extension": ".py",
   "mimetype": "text/x-python",
   "name": "python",
   "nbconvert_exporter": "python",
   "pygments_lexer": "ipython3",
   "version": "3.12.6"
  }
 },
 "nbformat": 4,
 "nbformat_minor": 5
}
