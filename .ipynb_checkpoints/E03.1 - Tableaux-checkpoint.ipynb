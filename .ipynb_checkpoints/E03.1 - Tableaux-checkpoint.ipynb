{
 "cells": [
  {
   "cell_type": "markdown",
   "id": "42ecc8e3-f8f6-4ed9-b481-e4c85da1643c",
   "metadata": {},
   "source": [
    "# Tableaux (ou listes)"
   ]
  },
  {
   "cell_type": "markdown",
   "id": "9e197df2-ad36-493e-80fb-47aa61e04865",
   "metadata": {},
   "source": [
    "## Opération sur les listes"
   ]
  },
  {
   "cell_type": "code",
   "execution_count": 91,
   "id": "25870314-e116-4093-bea2-0652ae47e72e",
   "metadata": {},
   "outputs": [
    {
     "name": "stdout",
     "output_type": "stream",
     "text": [
      "Liste: \t\t\t\t ['soccer', 'basketball', 'natation', 'badminton'] \n",
      "\n",
      "Un élément ajouté: \t\t ['soccer', 'basketball', 'natation', 'badminton', 'hockey'] \n",
      "\n",
      "Un élément retiré: \t\t ['basketball', 'natation', 'badminton', 'hockey'] \n",
      "\n",
      "Élément à l'index 2:\t\t badminton \n",
      "\n",
      "Nouvel élément à l'index 2:\t badminton \n",
      "\n",
      "Élément modifié à l'index 3:\t hockey interieur \n",
      "\n"
     ]
    }
   ],
   "source": [
    "# Créer\n",
    "liste = [\"soccer\",\"basketball\",\"natation\",\"badminton\"]\n",
    "print(\"Liste: \\t\\t\\t\\t\", liste, \"\\n\")\n",
    "\n",
    "# Ajouter\n",
    "liste.append(\"hockey\")\n",
    "print(\"Un élément ajouté: \\t\\t\", liste, \"\\n\")\n",
    "\n",
    "# Retirer\n",
    "liste.remove(\"soccer\")\n",
    "print(\"Un élément retiré: \\t\\t\", liste, \"\\n\")\n",
    "\n",
    "# Lire l'élément à un index\n",
    "element = liste[2]\n",
    "print(\"Élément à l'index 2:\\t\\t\",element, \"\\n\")\n",
    "\n",
    "# Écrire un élément à un index\n",
    "liste[2] = \"rugby\"\n",
    "print(\"Nouvel élément à l'index 2:\\t\",element, \"\\n\")\n",
    "\n",
    "# Modifier un élément à un index\n",
    "liste[3] = liste[3] + \" interieur\"\n",
    "print(\"Élément modifié à l'index 3:\\t\",liste[3], \"\\n\")"
   ]
  },
  {
   "cell_type": "markdown",
   "id": "605c1ad4-2841-4946-a9ca-b0340a5a0d09",
   "metadata": {},
   "source": [
    "## Exercices"
   ]
  },
  {
   "cell_type": "code",
   "execution_count": 92,
   "id": "31b8d1f5-5967-4bff-a56b-00c9d89e6239",
   "metadata": {},
   "outputs": [],
   "source": [
    "# 1) Ajouter \"pomme\" à la liste suivante et imprimer la liste pour valider\n",
    "liste_fruits = [\"orange\",\"banane\",\"raisin\"]"
   ]
  },
  {
   "cell_type": "code",
   "execution_count": 93,
   "id": "1bd58c72-1a03-41a6-9924-c1d942b2404a",
   "metadata": {},
   "outputs": [],
   "source": [
    "# 2) Retirer \"banane\" de la liste suivante et imprimer la liste pour valider\n",
    "liste_fruits = [\"orange\",\"banane\",\"raisin\"]"
   ]
  },
  {
   "cell_type": "code",
   "execution_count": 75,
   "id": "fd63f9c6-4e72-461c-93db-3b8a75f6841d",
   "metadata": {},
   "outputs": [],
   "source": [
    "# 3) Retirer \"300\" de la liste suivante et imprimer la liste pour valider\n",
    "liste_nombres = [100,200,300,400,150]"
   ]
  },
  {
   "cell_type": "code",
   "execution_count": 76,
   "id": "81a83af1-f35f-4a00-941a-4937980d831c",
   "metadata": {},
   "outputs": [],
   "source": [
    "# 4) Imprimer le 3ème élément de la liste (Montreal)\n",
    "liste_villes = [\"Québec\",\"Gatineau\",\"Montreal\",\"Lévis\",\"Trois-Rivières\"]"
   ]
  },
  {
   "cell_type": "code",
   "execution_count": 77,
   "id": "9f1fa2aa-9965-4e98-b0f4-b87a744102bb",
   "metadata": {},
   "outputs": [],
   "source": [
    "# 5) Imprimer le premier élément de la liste (Québec)\n",
    "liste_villes = [\"Québec\",\"Gatineau\",\"Montreal\",\"Lévis\",\"Trois-Rivières\"]"
   ]
  },
  {
   "cell_type": "code",
   "execution_count": 78,
   "id": "07cf9610-dc8b-43cb-9a9e-976a702ece05",
   "metadata": {},
   "outputs": [],
   "source": [
    "# 6) Imprimer le premier élément de la liste (100)\n",
    "liste_nombres = [100,6,91,20,10]"
   ]
  },
  {
   "cell_type": "code",
   "execution_count": 79,
   "id": "a404cdac-492a-4fdc-a31a-f2a4ae4ebe5a",
   "metadata": {},
   "outputs": [],
   "source": [
    "# 7) Remplaçer le deuxième élément par \"Suisse\" et imprimer la liste pour valider\n",
    "liste_pays = [\"Canada\",\"France\",\"Belgique\"]"
   ]
  },
  {
   "cell_type": "code",
   "execution_count": 80,
   "id": "d6fd3cb8-8a52-4b58-93f9-1b2d9099ef4c",
   "metadata": {},
   "outputs": [],
   "source": [
    "# 8) Ajouter \"sofa\" et \"chaise\" à la liste suivante et imprimer la liste pour valider\n",
    "liste_meubles = [\"table\"]"
   ]
  },
  {
   "cell_type": "code",
   "execution_count": 81,
   "id": "64c9f2ae-215b-4e7a-b103-4b01981442ae",
   "metadata": {},
   "outputs": [],
   "source": [
    "# 9) Imprimer le dernier élément de la liste (\"tabouret\")\n",
    "liste_meubles = [\"table\",\"chaise\",\"divan\",\"armoire\",\"tabouret\"]"
   ]
  },
  {
   "cell_type": "code",
   "execution_count": 82,
   "id": "7e84f5b9-3f5b-420d-9367-aae5bffa064e",
   "metadata": {},
   "outputs": [],
   "source": [
    "# 10) Remplaçer \"chaise\" avec \"sofa\" et imprimer la liste pour valider\n",
    "liste_meubles = [\"table\",\"chaise\",\"divan\",\"armoire\",\"tabouret\"]"
   ]
  },
  {
   "cell_type": "code",
   "execution_count": 83,
   "id": "4a419fdf-3635-4f10-9eb8-3451dbec8fbd",
   "metadata": {},
   "outputs": [],
   "source": [
    "# 11) Ajouter \"basse\" après le premier élément pour obtenir \"table basse\" et imprimer la liste pour valider\n",
    "liste_meubles = [\"table\",\"chaise\",\"divan\",\"armoire\",\"tabouret\"]"
   ]
  },
  {
   "cell_type": "code",
   "execution_count": 84,
   "id": "2c496dca-14cc-4998-8510-b25d23a496da",
   "metadata": {},
   "outputs": [],
   "source": [
    "# 12) Ajouter \"grande\" avant le deuxième élément pour obtenir \"grande chaise\" et imprimer la liste pour valider\n",
    "liste_meubles = [\"table\",\"chaise\",\"divan\",\"armoire\",\"tabouret\"]"
   ]
  },
  {
   "cell_type": "code",
   "execution_count": 85,
   "id": "50466e73-97e7-479d-a084-ce5e39b6b457",
   "metadata": {},
   "outputs": [],
   "source": [
    "# 13) Ajouter 10 au premier élément de la liste et imprimer la liste pour valider\n",
    "liste_nombres = [10,11,12,13,14,15]"
   ]
  },
  {
   "cell_type": "code",
   "execution_count": 86,
   "id": "f3a580f3-8da5-4591-8519-9201196c77b2",
   "metadata": {},
   "outputs": [],
   "source": [
    "# 14) Doubler (*2) le deuxième élément de la liste et imprimer la liste pour valider\n",
    "liste_nombres = [10,11,12,13,14,15]"
   ]
  },
  {
   "cell_type": "code",
   "execution_count": 87,
   "id": "9f30bb03-12f7-4bc4-8431-aca55f6530bd",
   "metadata": {},
   "outputs": [],
   "source": [
    "# 15) Soustraire 10 du dernier élément de la liste et imprimer la liste pour valider\n",
    "liste_nombres = [100,99,300]"
   ]
  },
  {
   "cell_type": "code",
   "execution_count": 88,
   "id": "a827628b-7cf7-4abd-a484-b48314c68bb5",
   "metadata": {},
   "outputs": [],
   "source": [
    "# 16) Soustraire 10 du premier et dernier élément de la liste et imprimer la liste pour valider\n",
    "liste_nombres = [50,1000,70]"
   ]
  },
  {
   "cell_type": "code",
   "execution_count": 89,
   "id": "f71faac8-baf1-4c4b-9838-2fbe34e588f3",
   "metadata": {},
   "outputs": [],
   "source": [
    "# 17) Soustraire le premier élément au deuxième élément.\n",
    "#     Assigner le résultat au deuxième élément afin d'obtenir la liste suivante [50,100,70]\n",
    "#     Imprimer la liste pour vérifier\n",
    "liste_nombres = [50,150,70]"
   ]
  },
  {
   "cell_type": "code",
   "execution_count": 90,
   "id": "a2f17134-54c4-4261-b221-8684c6ba166c",
   "metadata": {},
   "outputs": [],
   "source": [
    "# 18) Ajouter le texte du dernier élément à celui du premier élément \n",
    "#     pour obtenir [\"JoeLouis\",\"Nicolas\",\"Alexandre\",\"Louis\"].\n",
    "#     Imprimer pour vérifier\n",
    "liste_noms = [\"Joe\",\"Nicolas\",\"Alexandre\",\"Louis\"]"
   ]
  }
 ],
 "metadata": {
  "kernelspec": {
   "display_name": "Python 3 (ipykernel)",
   "language": "python",
   "name": "python3"
  },
  "language_info": {
   "codemirror_mode": {
    "name": "ipython",
    "version": 3
   },
   "file_extension": ".py",
   "mimetype": "text/x-python",
   "name": "python",
   "nbconvert_exporter": "python",
   "pygments_lexer": "ipython3",
   "version": "3.12.6"
  }
 },
 "nbformat": 4,
 "nbformat_minor": 5
}
