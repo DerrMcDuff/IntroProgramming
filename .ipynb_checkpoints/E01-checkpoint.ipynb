{
 "cells": [
  {
   "cell_type": "markdown",
   "id": "ed1b7bf7-2f04-4d2c-b15a-2d4a4fcf8ee6",
   "metadata": {},
   "source": [
    "# Exercices\n",
    "\n",
    "Pour chacune de ces fonctions, trouver une valeur qui retourne vrai (`True`) et une qui retourne faux (`False`). Ou bien autre chose si spécifié.\n",
    "\n",
    "**Aide**\n",
    "* `int,float,str,bool,[]`\n",
    "    * Voir document `Python Base`, section `Types`\n",
    "* `<,>,==,<=,>=,!=`\n",
    "    * Voir document `Python Base`, section `Opérations de comparaison`"
   ]
  },
  {
   "cell_type": "code",
   "execution_count": null,
   "id": "8edc3fd1-40d6-4e98-9137-75cf387540fa",
   "metadata": {},
   "outputs": [],
   "source": [
    "def fonction_a(n: int) -> bool:\n",
    "    return n > 0\n",
    "\n",
    "# Retourne vrai\n",
    "print(fonction_a(10))\n",
    "# Retourne faux\n",
    "print(fonction_a(-3))"
   ]
  },
  {
   "cell_type": "code",
   "execution_count": null,
   "id": "952c83e8-178d-42c9-8e23-0b6df097a6a5",
   "metadata": {},
   "outputs": [],
   "source": [
    "def fonction_b(n: int) -> bool:\n",
    "    return n < 10\n",
    "\n",
    "# Retourne vrai\n",
    "print(fonction_b())\n",
    "# Retourne faux\n",
    "print(fonction_b())"
   ]
  },
  {
   "cell_type": "code",
   "execution_count": null,
   "id": "e28992b0-5acb-41c3-a76f-39b27f6bc2a8",
   "metadata": {},
   "outputs": [],
   "source": [
    "def fonction_c(x: float) -> bool:\n",
    "    return x == 3.14\n",
    "\n",
    "# Retourne vrai\n",
    "print(fonction_c())\n",
    "# Retourne faux\n",
    "print(fonction_c())"
   ]
  },
  {
   "cell_type": "code",
   "execution_count": null,
   "id": "0c608ea7-f319-4c16-8bf3-a88325fe5267",
   "metadata": {},
   "outputs": [],
   "source": [
    "def fonction_d(s: str) -> bool:\n",
    "    return len(s) > 5\n",
    "\n",
    "# Retourne vrai\n",
    "print(fonction_d())\n",
    "# Retourne faux\n",
    "print(fonction_d())"
   ]
  },
  {
   "cell_type": "code",
   "execution_count": null,
   "id": "36d64f24-6c94-42cf-82a5-f849970ad18a",
   "metadata": {},
   "outputs": [],
   "source": [
    "def fonction_e(b: bool) -> bool:\n",
    "    return b is False\n",
    "\n",
    "# Retourne vrai\n",
    "print(fonction_e())\n",
    "# Retourne faux\n",
    "print(fonction_e())"
   ]
  },
  {
   "cell_type": "code",
   "execution_count": null,
   "id": "c5a06a6e-1451-41da-813a-7a4726b04324",
   "metadata": {},
   "outputs": [],
   "source": [
    "def fonction_f(x: int) -> bool:\n",
    "    return x >= 100\n",
    "\n",
    "# Retourne vrai\n",
    "print(fonction_f())\n",
    "# Retourne faux\n",
    "print(fonction_f())"
   ]
  },
  {
   "cell_type": "code",
   "execution_count": null,
   "id": "e65ea37d-6ffc-4fba-b39a-0a4870625214",
   "metadata": {},
   "outputs": [],
   "source": [
    "def fonction_g(n: int) -> bool:\n",
    "    return n > 100 and n < 102\n",
    "\n",
    "# Retourne vrai\n",
    "print(fonction_g(101))\n",
    "# Retourne faux\n",
    "print(fonction_g(100))"
   ]
  },
  {
   "cell_type": "code",
   "execution_count": null,
   "id": "abc8e233-670c-4ee9-823f-7888135000c1",
   "metadata": {},
   "outputs": [],
   "source": [
    "def fonction_h(x: int, y: int) -> bool:\n",
    "    return x == y\n",
    "\n",
    "# Retourne vrai\n",
    "print(fonction_h())\n",
    "# Retourne faux\n",
    "print(fonction_h())"
   ]
  },
  {
   "cell_type": "code",
   "execution_count": null,
   "id": "8dd8b8ab-540d-4476-b044-262b4c7258e0",
   "metadata": {},
   "outputs": [],
   "source": [
    "def fonction_i(texte: str) -> bool:\n",
    "    return \"A\" in texte\n",
    "\n",
    "# Retourne vrai\n",
    "print(fonction_i())\n",
    "# Retourne faux\n",
    "print(fonction_i())"
   ]
  },
  {
   "cell_type": "code",
   "execution_count": 38,
   "id": "6e9629c4-b3df-4c77-ac64-a84491e57ed2",
   "metadata": {},
   "outputs": [
    {
     "ename": "TypeError",
     "evalue": "fonction_j() missing 1 required positional argument: 'texte'",
     "output_type": "error",
     "traceback": [
      "\u001b[0;31m---------------------------------------------------------------------------\u001b[0m",
      "\u001b[0;31mTypeError\u001b[0m                                 Traceback (most recent call last)",
      "Cell \u001b[0;32mIn[38], line 5\u001b[0m\n\u001b[1;32m      2\u001b[0m     \u001b[38;5;28;01mreturn\u001b[39;00m texte \u001b[38;5;129;01min\u001b[39;00m \u001b[38;5;124m\"\u001b[39m\u001b[38;5;124mUne truite\u001b[39m\u001b[38;5;124m\"\u001b[39m\n\u001b[1;32m      4\u001b[0m \u001b[38;5;66;03m# Retourne vrai\u001b[39;00m\n\u001b[0;32m----> 5\u001b[0m \u001b[38;5;28mprint\u001b[39m(\u001b[43mfonction_j\u001b[49m\u001b[43m(\u001b[49m\u001b[43m)\u001b[49m)\n\u001b[1;32m      6\u001b[0m \u001b[38;5;66;03m# Retourne faux\u001b[39;00m\n\u001b[1;32m      7\u001b[0m \u001b[38;5;28mprint\u001b[39m(fonction_j())\n",
      "\u001b[0;31mTypeError\u001b[0m: fonction_j() missing 1 required positional argument: 'texte'"
     ]
    }
   ],
   "source": [
    "def fonction_j(texte: str) -> bool:\n",
    "    return texte in \"Une truite\"\n",
    "\n",
    "# Retourne vrai\n",
    "print(fonction_j())\n",
    "# Retourne faux\n",
    "print(fonction_j())"
   ]
  },
  {
   "cell_type": "code",
   "execution_count": null,
   "id": "7957c8f2-2466-41e6-942d-4c594347cbe5",
   "metadata": {},
   "outputs": [],
   "source": [
    "def fonction_k(a: int, b: int) -> bool:\n",
    "    return a > b\n",
    "\n",
    "# Retourne vrai\n",
    "print(fonction_k())\n",
    "# Retourne faux\n",
    "print(fonction_k())"
   ]
  },
  {
   "cell_type": "code",
   "execution_count": null,
   "id": "2814e012-86e1-43a3-86bd-d6a018d67f96",
   "metadata": {},
   "outputs": [],
   "source": [
    "def fonction_l(texte: str) -> bool:\n",
    "    return texte.startswith(\"A\")\n",
    "\n",
    "# Retourne vrai\n",
    "print(fonction_l())\n",
    "# Retourne faux\n",
    "print(fonction_l())"
   ]
  },
  {
   "cell_type": "code",
   "execution_count": null,
   "id": "cb185513-043e-42e6-9685-1eb7f7c45c88",
   "metadata": {},
   "outputs": [],
   "source": [
    "def fonction_m(a: int, b: int) -> bool:\n",
    "    return a + b == 10\n",
    "\n",
    "# Retourne vrai\n",
    "print(fonction_m())\n",
    "# Retourne faux\n",
    "print(fonction_m())"
   ]
  },
  {
   "cell_type": "code",
   "execution_count": null,
   "id": "f315725a-2497-454d-8766-6036d13aff4f",
   "metadata": {},
   "outputs": [],
   "source": [
    "def fonction_n(texte1: str, texte2: str) -> bool:\n",
    "    return texte1 == texte2\n",
    "\n",
    "# Retourne vrai\n",
    "print(fonction_n())\n",
    "# Retourne faux\n",
    "print(fonction_n())"
   ]
  },
  {
   "cell_type": "code",
   "execution_count": null,
   "id": "74ce41e5-53ac-4d68-80d4-5afec2c00c87",
   "metadata": {},
   "outputs": [],
   "source": [
    "def fonction_o(texte1: str, texte2: str) -> bool:\n",
    "    return texte1 == texte2.upper()\n",
    "\n",
    "# Retourne vrai\n",
    "print(fonction_o())\n",
    "# Retourne faux\n",
    "print(fonction_o())"
   ]
  },
  {
   "cell_type": "code",
   "execution_count": null,
   "id": "995bb5a4-7da7-4272-bc57-3f6d0a2802ed",
   "metadata": {},
   "outputs": [],
   "source": [
    "def fonction_p(texte: str) -> bool:\n",
    "    if texte.startswith(\"a\") and texte.endswith(\"z\") and len(texte) > 5:\n",
    "        return True\n",
    "    else:\n",
    "        return False\n",
    "\n",
    "# Retourne vrai\n",
    "print(fonction_p())\n",
    "# Retourne faux\n",
    "print(fonction_p())"
   ]
  },
  {
   "cell_type": "code",
   "execution_count": 1,
   "id": "bc6c8df0-8676-4e23-b0de-bdb4f9b8616e",
   "metadata": {},
   "outputs": [
    {
     "ename": "TypeError",
     "evalue": "fonction_q() missing 1 required positional argument: 'texte'",
     "output_type": "error",
     "traceback": [
      "\u001b[0;31m---------------------------------------------------------------------------\u001b[0m",
      "\u001b[0;31mTypeError\u001b[0m                                 Traceback (most recent call last)",
      "Cell \u001b[0;32mIn[1], line 12\u001b[0m\n\u001b[1;32m      9\u001b[0m     \u001b[38;5;28;01mreturn\u001b[39;00m \u001b[38;5;241m4\u001b[39m\n\u001b[1;32m     11\u001b[0m \u001b[38;5;66;03m# Retourne 1\u001b[39;00m\n\u001b[0;32m---> 12\u001b[0m \u001b[38;5;28mprint\u001b[39m(\u001b[43mfonction_q\u001b[49m\u001b[43m(\u001b[49m\u001b[43m)\u001b[49m)\n\u001b[1;32m     13\u001b[0m \u001b[38;5;66;03m# Retourne 2\u001b[39;00m\n\u001b[1;32m     14\u001b[0m \u001b[38;5;28mprint\u001b[39m(fonction_q())\n",
      "\u001b[0;31mTypeError\u001b[0m: fonction_q() missing 1 required positional argument: 'texte'"
     ]
    }
   ],
   "source": [
    "def fonction_q(texte: str) -> int:\n",
    "    if texte + texte + \"n\" == \"maman\":\n",
    "        return 1\n",
    "    if texte.startswith(\"Bonjour\"):\n",
    "        if texte == \"Bonjour!\":\n",
    "            return 2\n",
    "        elif texte.endswith(\" à tous!\"):\n",
    "            return 3\n",
    "    return 4\n",
    "\n",
    "# Retourne 1\n",
    "print(fonction_q())\n",
    "# Retourne 2\n",
    "print(fonction_q())\n",
    "# Retourne 3\n",
    "print(fonction_q())\n",
    "# Retourne 4\n",
    "print(fonction_q())"
   ]
  },
  {
   "cell_type": "code",
   "execution_count": 11,
   "id": "abf720ce-f970-4422-9dc0-5edb4dfb6b30",
   "metadata": {},
   "outputs": [
    {
     "ename": "TypeError",
     "evalue": "fonction_r() missing 1 required positional argument: 'nombre'",
     "output_type": "error",
     "traceback": [
      "\u001b[0;31m---------------------------------------------------------------------------\u001b[0m",
      "\u001b[0;31mTypeError\u001b[0m                                 Traceback (most recent call last)",
      "Cell \u001b[0;32mIn[11], line 15\u001b[0m\n\u001b[1;32m     12\u001b[0m     \u001b[38;5;28;01mreturn\u001b[39;00m \u001b[38;5;241m5\u001b[39m\n\u001b[1;32m     14\u001b[0m \u001b[38;5;66;03m# Retourne 1\u001b[39;00m\n\u001b[0;32m---> 15\u001b[0m \u001b[38;5;28mprint\u001b[39m(\u001b[43mfonction_r\u001b[49m\u001b[43m(\u001b[49m\u001b[43m)\u001b[49m)\n\u001b[1;32m     16\u001b[0m \u001b[38;5;66;03m# Retourne 2\u001b[39;00m\n\u001b[1;32m     17\u001b[0m \u001b[38;5;28mprint\u001b[39m(fonction_r())\n",
      "\u001b[0;31mTypeError\u001b[0m: fonction_r() missing 1 required positional argument: 'nombre'"
     ]
    }
   ],
   "source": [
    "from datetime import datetime\n",
    "\n",
    "def fonction_r(nombre: int) -> int:\n",
    "    if nombre == datetime.now().day:\n",
    "         return 1\n",
    "    elif nombre == datetime.now().month:\n",
    "        return 2\n",
    "    elif nombre == datetime.now().year:\n",
    "        return 3\n",
    "    elif nombre == datetime.now().year + datetime.now().day:\n",
    "        return 4\n",
    "    return 5\n",
    "\n",
    "# Retourne 1\n",
    "print(fonction_r())\n",
    "# Retourne 2\n",
    "print(fonction_r())\n",
    "# Retourne 3\n",
    "print(fonction_r())\n",
    "# Retourne 4\n",
    "print(fonction_r())"
   ]
  },
  {
   "cell_type": "code",
   "execution_count": 20,
   "id": "aea55c9b-74f8-4559-9816-aa31afea2f7f",
   "metadata": {},
   "outputs": [
    {
     "ename": "TypeError",
     "evalue": "fonction_s() missing 2 required positional arguments: 'lettre' and 'nombre'",
     "output_type": "error",
     "traceback": [
      "\u001b[0;31m---------------------------------------------------------------------------\u001b[0m",
      "\u001b[0;31mTypeError\u001b[0m                                 Traceback (most recent call last)",
      "Cell \u001b[0;32mIn[20], line 11\u001b[0m\n\u001b[1;32m      8\u001b[0m         \u001b[38;5;28;01mreturn\u001b[39;00m \u001b[38;5;124m\"\u001b[39m\u001b[38;5;124mSapin de noel\u001b[39m\u001b[38;5;124m\"\u001b[39m\n\u001b[1;32m     10\u001b[0m \u001b[38;5;66;03m# Retourne blahblahblah\u001b[39;00m\n\u001b[0;32m---> 11\u001b[0m \u001b[38;5;28mprint\u001b[39m(\u001b[43mfonction_s\u001b[49m\u001b[43m(\u001b[49m\u001b[43m)\u001b[49m)\n\u001b[1;32m     12\u001b[0m \u001b[38;5;66;03m# Retourne Sapin de noel\u001b[39;00m\n\u001b[1;32m     13\u001b[0m \u001b[38;5;28mprint\u001b[39m(fonction_s())\n",
      "\u001b[0;31mTypeError\u001b[0m: fonction_s() missing 2 required positional arguments: 'lettre' and 'nombre'"
     ]
    }
   ],
   "source": [
    "def fonction_s(lettre:str, nombre: int) -> str:\n",
    "    texte = \"\"\n",
    "    for i in range(nombre):\n",
    "        texte += lettre\n",
    "    if (nombre < 6):\n",
    "        return texte\n",
    "    else:\n",
    "        return \"Sapin de noel\"\n",
    "\n",
    "# Retourne blahblahblah\n",
    "print(fonction_s())\n",
    "# Retourne Sapin de noel\n",
    "print(fonction_s())"
   ]
  },
  {
   "cell_type": "code",
   "execution_count": 36,
   "id": "cb7b61f5-fd06-45d3-bdc8-a8c6c666d7fb",
   "metadata": {},
   "outputs": [
    {
     "name": "stdout",
     "output_type": "stream",
     "text": [
      "1\n",
      "2\n"
     ]
    },
    {
     "ename": "TypeError",
     "evalue": "fonction_t() missing 1 required positional argument: 'nombres'",
     "output_type": "error",
     "traceback": [
      "\u001b[0;31m---------------------------------------------------------------------------\u001b[0m",
      "\u001b[0;31mTypeError\u001b[0m                                 Traceback (most recent call last)",
      "Cell \u001b[0;32mIn[36], line 18\u001b[0m\n\u001b[1;32m     16\u001b[0m \u001b[38;5;28mprint\u001b[39m(fonction_t([\u001b[38;5;241m5\u001b[39m,\u001b[38;5;241m6\u001b[39m,\u001b[38;5;241m7\u001b[39m]))\n\u001b[1;32m     17\u001b[0m \u001b[38;5;66;03m# Retourne 3\u001b[39;00m\n\u001b[0;32m---> 18\u001b[0m \u001b[38;5;28mprint\u001b[39m(\u001b[43mfonction_t\u001b[49m\u001b[43m(\u001b[49m\u001b[43m)\u001b[49m)\n",
      "\u001b[0;31mTypeError\u001b[0m: fonction_t() missing 1 required positional argument: 'nombres'"
     ]
    }
   ],
   "source": [
    "def fonction_t(nombres:[int]) -> str:\n",
    "    if (len(nombres) < 3): \n",
    "        return \"La liste de nombre doit contenir au moins 3 nombres\"\n",
    "        \n",
    "    if (nombres == [1,2,3]):\n",
    "        return 1\n",
    "    elif nombres[0] == 5:\n",
    "        return 2\n",
    "    elif nombres[2] == 1:\n",
    "        return 3\n",
    "    return \"-1\"\n",
    "\n",
    "# Retourne 1\n",
    "print(fonction_t([1,2,3]))\n",
    "# Retourne 2\n",
    "print(fonction_t([5,6,7]))\n",
    "# Retourne 3\n",
    "print(fonction_t())"
   ]
  },
  {
   "cell_type": "code",
   "execution_count": 37,
   "id": "ce44d9ad-0880-4f53-a0bb-cb556b92e799",
   "metadata": {},
   "outputs": [
    {
     "ename": "TypeError",
     "evalue": "fonction_t() missing 1 required positional argument: 'nombres'",
     "output_type": "error",
     "traceback": [
      "\u001b[0;31m---------------------------------------------------------------------------\u001b[0m",
      "\u001b[0;31mTypeError\u001b[0m                                 Traceback (most recent call last)",
      "Cell \u001b[0;32mIn[37], line 15\u001b[0m\n\u001b[1;32m     12\u001b[0m     \u001b[38;5;28;01mreturn\u001b[39;00m \u001b[38;5;241m-\u001b[39m\u001b[38;5;241m1\u001b[39m\n\u001b[1;32m     14\u001b[0m \u001b[38;5;66;03m# Retourne 1\u001b[39;00m\n\u001b[0;32m---> 15\u001b[0m \u001b[38;5;28mprint\u001b[39m(\u001b[43mfonction_t\u001b[49m\u001b[43m(\u001b[49m\u001b[43m)\u001b[49m)\n\u001b[1;32m     16\u001b[0m \u001b[38;5;66;03m# Retourne 2\u001b[39;00m\n\u001b[1;32m     17\u001b[0m \u001b[38;5;28mprint\u001b[39m(fonction_t())\n",
      "\u001b[0;31mTypeError\u001b[0m: fonction_t() missing 1 required positional argument: 'nombres'"
     ]
    }
   ],
   "source": [
    "def fonction_t(nombres:[int]) -> str:\n",
    "    if (len(nombres) < 3): \n",
    "        return \"La liste de nombre doit contenir au moins 3 nombres\"\n",
    "        \n",
    "    nombres.reverse()\n",
    "    if (nombres == [1,2,3]):\n",
    "        return 1\n",
    "    elif nombres[0] == 5:\n",
    "        return 2\n",
    "    elif nombres[2] == 1:\n",
    "        return 3\n",
    "    return -1\n",
    "\n",
    "# Retourne 1\n",
    "print(fonction_t())\n",
    "# Retourne 2\n",
    "print(fonction_t())\n",
    "# Retourne 3\n",
    "print(fonction_t())"
   ]
  },
  {
   "cell_type": "code",
   "execution_count": null,
   "id": "77292021-e259-4344-a11c-273210f6a263",
   "metadata": {},
   "outputs": [],
   "source": []
  }
 ],
 "metadata": {
  "kernelspec": {
   "display_name": "Python 3 (ipykernel)",
   "language": "python",
   "name": "python3"
  },
  "language_info": {
   "codemirror_mode": {
    "name": "ipython",
    "version": 3
   },
   "file_extension": ".py",
   "mimetype": "text/x-python",
   "name": "python",
   "nbconvert_exporter": "python",
   "pygments_lexer": "ipython3",
   "version": "3.12.4"
  }
 },
 "nbformat": 4,
 "nbformat_minor": 5
}
