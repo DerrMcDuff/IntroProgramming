{
 "cells": [
  {
   "cell_type": "markdown",
   "id": "fef6db54-f2ef-462e-b549-ecc1bc22cd4b",
   "metadata": {},
   "source": [
    "## Boucles"
   ]
  },
  {
   "cell_type": "markdown",
   "id": "4ee41e8b-77fe-4bef-ba35-564ceb182e36",
   "metadata": {},
   "source": [
    "## For In\n",
    "\n",
    "```python\n",
    "for [element] in [collection]:\n",
    "    [action]\n",
    "```\n",
    "\n",
    "Répète l'action `[action]` avec chaque élément `[élément]` de la collection d'éléments `[collection]`"
   ]
  },
  {
   "cell_type": "markdown",
   "id": "81608a9d-26bc-489c-9219-3eaf54a8bd06",
   "metadata": {},
   "source": [
    "### Truc A\n",
    "`test = test + 10` est équivalent à `test += 10`"
   ]
  },
  {
   "cell_type": "code",
   "execution_count": 4,
   "id": "6e8c393a-de39-4771-ba55-2bb5e698aabd",
   "metadata": {},
   "outputs": [
    {
     "name": "stdout",
     "output_type": "stream",
     "text": [
      "Valeur initiale: 5\n",
      "Valeur après ajout de 10: 15\n",
      "Valeur après ajout de 10 avec +=: 25\n"
     ]
    }
   ],
   "source": [
    "test = 5\n",
    "print(\"Valeur initiale: \"+str(test))\n",
    "test = test + 10\n",
    "print(\"Valeur après ajout de 10: \"+str(test))\n",
    "test += 10\n",
    "print(\"Valeur après ajout de 10 avec +=: \"+str(test))"
   ]
  },
  {
   "cell_type": "markdown",
   "id": "2ffd72a6-904a-4b9e-8faa-5474467d3e4f",
   "metadata": {},
   "source": [
    "#### Exercices du truc A"
   ]
  },
  {
   "cell_type": "code",
   "execution_count": 5,
   "id": "321f52f4-5dca-4158-95cd-2d7f24759fcc",
   "metadata": {},
   "outputs": [],
   "source": [
    "# A.1) Ajoute 1000 à la variable population en utilisant +=. Imprime le résultat pour confirmer.\n",
    "population = 3000"
   ]
  },
  {
   "cell_type": "code",
   "execution_count": null,
   "id": "9df9d6bd-217f-45bf-a802-cd3af874a1f5",
   "metadata": {},
   "outputs": [],
   "source": [
    "# A.2) Applique la meme logique et multiplie rupee par 30 en utilisant *=. \n",
    "#      Imprime le résultat pour confirmer.\n",
    "rupee = 10"
   ]
  },
  {
   "cell_type": "code",
   "execution_count": null,
   "id": "b1de0b5a-045b-4a47-baf3-f7a350187a1d",
   "metadata": {},
   "outputs": [],
   "source": [
    "# A.3) Applique la meme logique et divise accidents par 20 en utilisant /=. \n",
    "#      Imprime le résultat pour confirmer.\n",
    "accidents = 200"
   ]
  },
  {
   "cell_type": "code",
   "execution_count": null,
   "id": "fa39793a-c5b9-432c-b80f-2d637add867d",
   "metadata": {},
   "outputs": [],
   "source": [
    "# A.4) Applique la meme logique et soustrait 3000 à moustiques en utilisant -=. \n",
    "#      Imprime le résultat pour confirmer.\n",
    "moustiques = 3100"
   ]
  },
  {
   "cell_type": "markdown",
   "id": "c4fd434e-4a64-4649-9f76-2946a9b8c9d5",
   "metadata": {},
   "source": [
    "---"
   ]
  },
  {
   "cell_type": "markdown",
   "id": "8f8c3015-dc21-4762-b25c-1a3dec138679",
   "metadata": {},
   "source": [
    "## Exercices"
   ]
  },
  {
   "cell_type": "code",
   "execution_count": 9,
   "id": "11402dca-a95f-4f80-9618-9e54c1911291",
   "metadata": {},
   "outputs": [
    {
     "name": "stdout",
     "output_type": "stream",
     "text": [
      "572\n"
     ]
    }
   ],
   "source": [
    "# 1) Assigne une liste à valeur pour que la somme soit 600\n",
    "valeurs = [10,103,430,29]\n",
    "somme = 0\n",
    "for v in valeurs:\n",
    "    somme += v\n",
    "\n",
    "print(somme)"
   ]
  },
  {
   "cell_type": "code",
   "execution_count": 13,
   "id": "97f95336-f441-4b3d-84cb-a09a7ed1a4dc",
   "metadata": {},
   "outputs": [
    {
     "name": "stdout",
     "output_type": "stream",
     "text": [
      "572\n"
     ]
    }
   ],
   "source": [
    "# 2) Assigne une liste à valeur pour que la somme soit 34\n",
    "valeurs = [10,103,430,29]\n",
    "somme = 0\n",
    "for v in valeurs:\n",
    "    somme += v\n",
    "\n",
    "print(somme)"
   ]
  },
  {
   "cell_type": "code",
   "execution_count": 15,
   "id": "aad9222e-52e9-4e32-9ac6-478a024318d4",
   "metadata": {},
   "outputs": [
    {
     "name": "stdout",
     "output_type": "stream",
     "text": [
      "10\n"
     ]
    }
   ],
   "source": [
    "# 3) Assigne une liste à valeur pour que la somme soit 26\n",
    "valeurs = [10,103,430,29]\n",
    "somme = 0\n",
    "for v in valeurs:\n",
    "    if (v < 11):\n",
    "        somme += v\n",
    "\n",
    "print(somme)"
   ]
  },
  {
   "cell_type": "code",
   "execution_count": 16,
   "id": "db5a390e-c8f2-467a-8a0f-1c70cf97873e",
   "metadata": {},
   "outputs": [
    {
     "name": "stdout",
     "output_type": "stream",
     "text": [
      "39\n"
     ]
    }
   ],
   "source": [
    "# 4) Assigne une liste à valeur pour que la somme soit 220\n",
    "valeurs = [10,103,430,29]\n",
    "somme = 0\n",
    "for v in valeurs:\n",
    "    if (v < 100):\n",
    "        somme += v\n",
    "\n",
    "print(somme)"
   ]
  },
  {
   "cell_type": "code",
   "execution_count": 25,
   "id": "b2de5d97-6029-4d45-bf7e-151017fefb27",
   "metadata": {},
   "outputs": [
    {
     "name": "stdout",
     "output_type": "stream",
     "text": [
      "6\n"
     ]
    }
   ],
   "source": [
    "# 5) Assigne une liste à valeur pour que le produit soit 4\n",
    "valeurs = [2,3]\n",
    "produit = 1\n",
    "for v in valeurs:\n",
    "    produit *= v\n",
    "\n",
    "print(produit)"
   ]
  },
  {
   "cell_type": "code",
   "execution_count": 27,
   "id": "5e18947a-b465-48e2-93b7-7af8d1cbb2d6",
   "metadata": {
    "scrolled": true
   },
   "outputs": [
    {
     "name": "stdout",
     "output_type": "stream",
     "text": [
      "6\n"
     ]
    }
   ],
   "source": [
    "# 6) Assigne une liste à valeur pour que le produit soit 100\n",
    "valeurs = [2,3]\n",
    "produit = 1\n",
    "for v in valeurs:\n",
    "    produit *= v\n",
    "\n",
    "print(produit)"
   ]
  },
  {
   "cell_type": "code",
   "execution_count": 29,
   "id": "30234c08-a77c-41df-a427-1487eec6c950",
   "metadata": {},
   "outputs": [
    {
     "name": "stdout",
     "output_type": "stream",
     "text": [
      "150.0\n"
     ]
    }
   ],
   "source": [
    "# 7) Assigne une liste à valeur pour que le resultat soit 10\n",
    "valeurs = [1,2]\n",
    "resultat = 300\n",
    "for v in valeurs:\n",
    "    resultat /= v\n",
    "\n",
    "print(resultat)"
   ]
  },
  {
   "cell_type": "code",
   "execution_count": 32,
   "id": "5e07babc-1a07-49ff-be3e-0be0cedc84ee",
   "metadata": {},
   "outputs": [],
   "source": [
    "# 8) Accumule la somme de cette liste dans resultat. \n",
    "#    Imprime résultat pour valider qu'il est égal à 377\n",
    "valeurs = [1,20,304,52]\n",
    "resultat = 0"
   ]
  },
  {
   "cell_type": "code",
   "execution_count": 31,
   "id": "83cbe72a-ca16-4424-afeb-8844226586ad",
   "metadata": {},
   "outputs": [],
   "source": [
    "# 9) Accumule la somme de cette liste dans une variable nommée \"la_somme\"\n",
    "#    Imprime résultat pour valider qu'il est égal à 272\n",
    "valeurs = [1,15,304,52,-100]"
   ]
  }
 ],
 "metadata": {
  "kernelspec": {
   "display_name": "Python 3 (ipykernel)",
   "language": "python",
   "name": "python3"
  },
  "language_info": {
   "codemirror_mode": {
    "name": "ipython",
    "version": 3
   },
   "file_extension": ".py",
   "mimetype": "text/x-python",
   "name": "python",
   "nbconvert_exporter": "python",
   "pygments_lexer": "ipython3",
   "version": "3.12.6"
  }
 },
 "nbformat": 4,
 "nbformat_minor": 5
}
