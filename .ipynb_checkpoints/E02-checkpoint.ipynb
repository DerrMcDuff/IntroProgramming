{
 "cells": [
  {
   "cell_type": "markdown",
   "id": "36990bb0-50a5-477a-a1cb-77111ccc8a91",
   "metadata": {},
   "source": [
    "# Exercices\n",
    "\n",
    "### Exemple\n",
    "\n",
    "```python\n",
    "def nom_de_la_fonction(a:int, b:int) -> int:\n",
    "    return a+b\n",
    "```\n",
    "\n",
    "* `def`: Mot-clé pour commencer la **déf**inition d'une fonction\n",
    "* `nomDeLaFonction`: **Nom de la fonction**. Utiliser les `_` au lieu des espaces\n",
    "* `a` et `b`: **Paramètres** de la fonction\n",
    "* `:int`: **Type** du paramètre\n",
    "* `-> str`: **Type de retour** de la fonction\n",
    "* `return`: **Retourne** la réponse de la fonction\n"
   ]
  },
  {
   "cell_type": "markdown",
   "id": "0404093a-bc3c-458c-8daa-88f15156c3af",
   "metadata": {},
   "source": [
    "## 1.\n",
    "Écrit une fonction qui retourne toujours le texte `\"bonjour\"`"
   ]
  },
  {
   "cell_type": "code",
   "execution_count": null,
   "id": "ec548511-7903-4ce6-bbd9-cdf2bab5108c",
   "metadata": {},
   "outputs": [],
   "source": []
  },
  {
   "cell_type": "markdown",
   "id": "5ec61cea-5b95-49be-81fd-0800aee9932f",
   "metadata": {},
   "source": [
    "## 2.\n",
    "Programme une fonction qui prends **un nombre en paramètre** et qui **retourne ce nombre en y ajoutant 3**.\n",
    "\n",
    "Ex: Si l'argument est 6, la fonctione retournera 9."
   ]
  },
  {
   "cell_type": "code",
   "execution_count": null,
   "id": "fd1890d9-47cb-44d6-836a-929c2183465c",
   "metadata": {},
   "outputs": [],
   "source": []
  },
  {
   "cell_type": "markdown",
   "id": "4a6c231e-ddcc-4c7f-8856-f803d0c548d1",
   "metadata": {},
   "source": [
    "## 3.\n",
    "Programme une fonction qui prends **deux nombres en paramètre** et **retourne la soustraction des deux nombres**."
   ]
  },
  {
   "cell_type": "code",
   "execution_count": null,
   "id": "cf14bee8-f9cc-496a-b40e-472da8f2ad5e",
   "metadata": {},
   "outputs": [],
   "source": []
  },
  {
   "cell_type": "markdown",
   "id": "10b96655-a530-459f-ab51-ae6abcb68e7f",
   "metadata": {},
   "source": [
    "## 4.\n",
    "Programme une fonction qui prends **un booléen en paramètre** et **retourne le texte \"oui\" si le booléen est vrai et \"non\" autrement**."
   ]
  },
  {
   "cell_type": "code",
   "execution_count": null,
   "id": "a505e41d-24b7-40c0-861c-0ab4c7235a76",
   "metadata": {},
   "outputs": [],
   "source": []
  },
  {
   "cell_type": "markdown",
   "id": "24ddb1f1-567e-4500-b0c9-eeb51099b5c9",
   "metadata": {},
   "source": [
    "## 5.\n",
    "Programme une fonction qui prends **un nombre et un texte en paramètre** et **retourne vrai si la longueur du texte est égale au nombre**."
   ]
  },
  {
   "cell_type": "code",
   "execution_count": null,
   "id": "b3c6e488-38c5-4440-95a3-62a79a4ee65f",
   "metadata": {},
   "outputs": [],
   "source": []
  },
  {
   "cell_type": "markdown",
   "id": "d379b82a-f433-4b49-92a7-9567ca7d2c87",
   "metadata": {},
   "source": [
    "## 6.\n",
    "Programme une fonction qui prends **un nombre en paramètre** et **retourne \"Echo\" repété le nombre de fois correspondant à ce nombre**.\n",
    "\n",
    "Ex: Si le nombre est 4, retourner \"EchoEchoEchoEcho\""
   ]
  },
  {
   "cell_type": "code",
   "execution_count": null,
   "id": "ab36406b-29ef-4b3c-84b8-7248988b6701",
   "metadata": {},
   "outputs": [],
   "source": []
  },
  {
   "cell_type": "markdown",
   "id": "701283dc-029e-4b29-a9b5-f5ec8e7ed52c",
   "metadata": {},
   "source": [
    "## 7.\n",
    "Programme une fonction qui prends **un texte** et **vérifie si ce texte est dans celui de la variable `description`**"
   ]
  },
  {
   "cell_type": "code",
   "execution_count": 1,
   "id": "aa97399c-6c05-40d5-a66e-8ca76ce2df44",
   "metadata": {},
   "outputs": [],
   "source": [
    "description = \"Après la récolte, les noix de cajou doivent être séparées de la pomme en veillant à ne pas laisser de pulpe de la pomme sur la noix. On laisse ensuite sécher les noix trois à quatre jours sur un sol propre et à l'ombre car le plein soleil entraînerait une imprégnation d'huile toxique dans la graine.\"\n",
    "\n"
   ]
  },
  {
   "cell_type": "code",
   "execution_count": null,
   "id": "1c9df6a8-b506-4782-abc6-fcfa7cdf0667",
   "metadata": {},
   "outputs": [],
   "source": []
  }
 ],
 "metadata": {
  "kernelspec": {
   "display_name": "Python 3 (ipykernel)",
   "language": "python",
   "name": "python3"
  },
  "language_info": {
   "codemirror_mode": {
    "name": "ipython",
    "version": 3
   },
   "file_extension": ".py",
   "mimetype": "text/x-python",
   "name": "python",
   "nbconvert_exporter": "python",
   "pygments_lexer": "ipython3",
   "version": "3.12.6"
  }
 },
 "nbformat": 4,
 "nbformat_minor": 5
}
