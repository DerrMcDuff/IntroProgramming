{
 "cells": [
  {
   "cell_type": "code",
   "execution_count": 2,
   "id": "ca1c1d8c-8898-4f7a-b517-5b492bb90f9c",
   "metadata": {},
   "outputs": [
    {
     "name": "stdout",
     "output_type": "stream",
     "text": [
      "6\n"
     ]
    }
   ],
   "source": [
    "valeur = 5\n",
    "valeur = valeur +1\n",
    "print(valeur)"
   ]
  },
  {
   "cell_type": "code",
   "execution_count": null,
   "id": "be85e16c-aaac-4978-9929-3618249022dc",
   "metadata": {},
   "outputs": [],
   "source": [
    "# Imprimer les valeurs de 1 à 10\n",
    "print(1)\n",
    "print(2)\n",
    "print(4)"
   ]
  }
 ],
 "metadata": {
  "kernelspec": {
   "display_name": "Python 3 (ipykernel)",
   "language": "python",
   "name": "python3"
  },
  "language_info": {
   "codemirror_mode": {
    "name": "ipython",
    "version": 3
   },
   "file_extension": ".py",
   "mimetype": "text/x-python",
   "name": "python",
   "nbconvert_exporter": "python",
   "pygments_lexer": "ipython3",
   "version": "3.12.6"
  }
 },
 "nbformat": 4,
 "nbformat_minor": 5
}
