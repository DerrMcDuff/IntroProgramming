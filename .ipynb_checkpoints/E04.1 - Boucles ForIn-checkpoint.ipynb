{
 "cells": [
  {
   "cell_type": "markdown",
   "id": "fef6db54-f2ef-462e-b549-ecc1bc22cd4b",
   "metadata": {},
   "source": [
    "## Boucles"
   ]
  },
  {
   "cell_type": "markdown",
   "id": "4ee41e8b-77fe-4bef-ba35-564ceb182e36",
   "metadata": {},
   "source": [
    "## For In\n",
    "\n",
    "```python\n",
    "for [element] in [collection]:\n",
    "    [action]\n",
    "```\n",
    "\n",
    "Répète l'action `[action]` avec chaque élément `[élément]` de la collection d'éléments `[collection]`"
   ]
  },
  {
   "cell_type": "code",
   "execution_count": 3,
   "id": "6e8c393a-de39-4771-ba55-2bb5e698aabd",
   "metadata": {},
   "outputs": [
    {
     "name": "stdout",
     "output_type": "stream",
     "text": [
      "Ceci est un nom d'arbre: Frêne\n",
      "Ceci est un nom d'arbre: Bouleau\n",
      "Ceci est un nom d'arbre: Érable\n",
      "Ceci est un nom d'arbre: Chêne\n"
     ]
    }
   ],
   "source": [
    "# Exemple 1\n",
    "liste_arbres = [\"Frêne\",\"Bouleau\",\"Érable\",\"Chêne\"]\n",
    "for arbre in liste_arbres:\n",
    "    print(\"Ceci est un nom d'arbre: \" + arbre)"
   ]
  },
  {
   "cell_type": "code",
   "execution_count": 6,
   "id": "11402dca-a95f-4f80-9618-9e54c1911291",
   "metadata": {},
   "outputs": [
    {
     "name": "stdout",
     "output_type": "stream",
     "text": [
      "1 est plus petit ou égal à 3\n",
      "2 est plus petit ou égal à 3\n",
      "3 est plus petit ou égal à 3\n",
      "4 est plus grand que 3\n",
      "5 est plus grand que 3\n"
     ]
    }
   ],
   "source": [
    "# Exemple 2\n",
    "liste_suite = [1,2,3,4,5]\n",
    "for nombre in liste_suite:\n",
    "    if (nombre > 3):\n",
    "        print(str(nombre) + \" est plus grand que 3\")\n",
    "    else:\n",
    "        print(str(nombre) + \" est plus petit ou égal à 3\")"
   ]
  },
  {
   "cell_type": "markdown",
   "id": "8f8c3015-dc21-4762-b25c-1a3dec138679",
   "metadata": {},
   "source": [
    "## Exercices"
   ]
  },
  {
   "cell_type": "code",
   "execution_count": 26,
   "id": "e77a9d91-5bb1-437d-9cc6-34fdfd28eb91",
   "metadata": {},
   "outputs": [],
   "source": [
    "# 1) Boucler sur la liste suivante et imprimer chaque valeur (comme dans l'exemple 1)\n",
    "liste_suite = [10,15,20,25]"
   ]
  },
  {
   "cell_type": "code",
   "execution_count": 27,
   "id": "04327da4-a941-4ecd-a01f-8b262265023c",
   "metadata": {},
   "outputs": [],
   "source": [
    "# 2) Boucler sur chaque valeur de la liste suivante et imprimer la valeur en additionnant 10\n",
    "liste_suite = [1,2,3,4,5]"
   ]
  },
  {
   "cell_type": "code",
   "execution_count": 28,
   "id": "028756bf-a6c5-4ea5-b028-c9e75b251d81",
   "metadata": {},
   "outputs": [],
   "source": [
    "# 3) Boucler sur chaque valeur de la liste suivante et imprimer \"haut\" pour chaque valeur plus haute que 10.\n",
    "#    Sinon imprimer \"bas\"\n",
    "#    Indice: Voir exemple 2\n",
    "liste_nombres = [30,1,20,4,5,30]"
   ]
  },
  {
   "cell_type": "code",
   "execution_count": 29,
   "id": "63b82a11-1a11-4eb0-8d9f-a2142ad248c0",
   "metadata": {},
   "outputs": [
    {
     "name": "stdout",
     "output_type": "stream",
     "text": [
      "15\n"
     ]
    }
   ],
   "source": [
    "# Indice: Additionner 5 à la variable test puis imprimer test pour valider que test est égal à 15\n",
    "test = 10\n",
    "test = test + 5\n",
    "print(test)"
   ]
  },
  {
   "cell_type": "code",
   "execution_count": 30,
   "id": "57acbc5c-4c1d-4b78-b2bf-3c2be3fa7a43",
   "metadata": {},
   "outputs": [],
   "source": [
    "# 4) Soustraire 5 à la variable test puis imprimer test pour valider que test est égal à 15\n",
    "test = 10"
   ]
  },
  {
   "cell_type": "code",
   "execution_count": 31,
   "id": "81c28297-2577-4013-91de-3bfafba6ec9d",
   "metadata": {},
   "outputs": [],
   "source": [
    "# 5) Boucler sur chaque valeur de la liste suivante et ajouter la valeur à la variable somme\n",
    "#    Imprimer somme à la fin pour valider que somme égal 20\n",
    "somme = 0\n",
    "liste_nombres = [5,5,10]"
   ]
  },
  {
   "cell_type": "code",
   "execution_count": 32,
   "id": "33e550fb-73b8-4bb5-ba4b-2894ca9c6e95",
   "metadata": {},
   "outputs": [],
   "source": [
    "# 6) Boucler sur chaque valeur de la liste suivante et ajouter la valeur à la variable somme\n",
    "#    Imprimer somme à la fin pour valider que la somme est -10\n",
    "somme = 0\n",
    "liste_nombres = [100,90,-200]"
   ]
  },
  {
   "cell_type": "code",
   "execution_count": 33,
   "id": "ec9b6e41-8b6e-4c54-91cc-04eaa7cb59ba",
   "metadata": {},
   "outputs": [],
   "source": [
    "# 7) Boucler sur chaque valeur de la liste suivante et ajouter la valeur à la variable somme\n",
    "#    Imprimer somme à la fin pour valider que la somme est -10\n",
    "somme = 0\n",
    "liste_nombres = [100,90,-200]"
   ]
  },
  {
   "cell_type": "code",
   "execution_count": 34,
   "id": "ec8f01f5-aa67-451a-93aa-24eaaef97708",
   "metadata": {},
   "outputs": [],
   "source": [
    "# 8) Boucler sur chaque valeur de la liste suivante et assigner la valeur à la variable maximum \n",
    "#    seulement si maximum est plus petit.\n",
    "#    Imprimer maximum à la fin pour valider que sa valeur est 100\n",
    "maximum = 0\n",
    "liste_nombres = [100,90,-200]"
   ]
  },
  {
   "cell_type": "code",
   "execution_count": 35,
   "id": "b970fbe2-70df-40c6-80ea-8ddfa4fb472a",
   "metadata": {},
   "outputs": [
    {
     "name": "stdout",
     "output_type": "stream",
     "text": [
      "Pomme\n",
      "Pomme de terre\n"
     ]
    }
   ],
   "source": [
    "# Indice: On ajouter du texte à une variable ainsi. \n",
    "test = \"Pomme\"\n",
    "print(test)\n",
    "test = test + \" de terre\"\n",
    "print(test)"
   ]
  },
  {
   "cell_type": "code",
   "execution_count": 36,
   "id": "13ee4113-f8de-4a27-9552-4fc981bfee87",
   "metadata": {},
   "outputs": [],
   "source": [
    "# 9) Boucler sur chaque valeur de la liste suivante et ajouter la valeur à la variable somme\n",
    "#    Imprimer le texte à la fin pour valider qu'il contient le message au complet\n",
    "texte = \"\"\n",
    "liste_mots = [\"Bonjour\",\" ceci\",\" est\",\" un\",\" message\"]"
   ]
  }
 ],
 "metadata": {
  "kernelspec": {
   "display_name": "Python 3 (ipykernel)",
   "language": "python",
   "name": "python3"
  },
  "language_info": {
   "codemirror_mode": {
    "name": "ipython",
    "version": 3
   },
   "file_extension": ".py",
   "mimetype": "text/x-python",
   "name": "python",
   "nbconvert_exporter": "python",
   "pygments_lexer": "ipython3",
   "version": "3.12.6"
  }
 },
 "nbformat": 4,
 "nbformat_minor": 5
}
