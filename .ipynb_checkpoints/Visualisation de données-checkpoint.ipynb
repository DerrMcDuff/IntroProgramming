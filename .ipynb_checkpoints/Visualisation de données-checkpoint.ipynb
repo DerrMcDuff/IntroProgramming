{
 "cells": [
  {
   "cell_type": "markdown",
   "id": "39525b2a-2d1e-44c1-9b80-2ea4d599f673",
   "metadata": {},
   "source": [
    "# Visualisation de données"
   ]
  },
  {
   "cell_type": "code",
   "execution_count": 18,
   "id": "0a2bdf2f-a02e-4174-a798-e3267a1647cd",
   "metadata": {},
   "outputs": [
    {
     "data": {
      "image/png": "[encoded data removed]",
      "text/plain": [
       "<Figure size 1000x600 with 1 Axes>"
      ]
     },
     "metadata": {},
     "output_type": "display_data"
    }
   ],
   "source": [
    "import matplotlib.pyplot as plt\n",
    "from collections import Counter\n",
    "import string\n",
    "\n",
    "# Fonction pour générer le graphique en barres\n",
    "def plot_letter_frequency(input_string):\n",
    "    # Convertir la chaîne en minuscules et filtrer les caractères non alphabétiques\n",
    "    filtered_string = ''.join([char.lower() for char in input_string if char in string.ascii_letters])\n",
    "\n",
    "    # Compter la fréquence de chaque lettre\n",
    "    letter_counts = Counter(filtered_string)\n",
    "\n",
    "    # Trier les lettres pour un tracé cohérent\n",
    "    letters = sorted(letter_counts.keys())\n",
    "    frequencies = [letter_counts[letter] for letter in letters]\n",
    "\n",
    "    # Tracé du graphique en barres\n",
    "    plt.figure(figsize=(10, 6))\n",
    "    plt.bar(letters, frequencies, color='skyblue')\n",
    "    plt.xlabel('Lettres')\n",
    "    plt.ylabel('Nombre d\\'instance')\n",
    "    plt.title('Nombre d\\'instance par lettre')\n",
    "    plt.show()\n",
    "\n",
    "# Exemple d'utilisation\n",
    "input_string = \"Bonjour a tout le monde! Mon nom est Dereck.\"\n",
    "plot_letter_frequency(input_string)"
   ]
  },
  {
   "cell_type": "code",
   "execution_count": 23,
   "id": "2acec5f8-8343-4329-889e-6de6350b8465",
   "metadata": {},
   "outputs": [
    {
     "data": {
      "application/vnd.jupyter.widget-view+json": {
       "model_id": "b17d7ba48bbe4ab0980f3e8f20b2edc7",
       "version_major": 2,
       "version_minor": 0
      },
      "text/plain": [
       "interactive(children=(FloatSlider(value=1.0, description='Frequency', max=10.0, min=0.1), FloatSlider(value=1.…"
      ]
     },
     "metadata": {},
     "output_type": "display_data"
    },
    {
     "data": {
      "text/plain": [
       "<function __main__.plot_sine_cosine(frequency=1.0, amplitude=1.0)>"
      ]
     },
     "execution_count": 23,
     "metadata": {},
     "output_type": "execute_result"
    }
   ],
   "source": [
    "#pip install ipywidgets\n",
    "import numpy as np\n",
    "import matplotlib.pyplot as plt\n",
    "from ipywidgets import interact, FloatSlider\n",
    "\n",
    "# Function to plot sine and cosine waves\n",
    "def plot_sine_cosine(frequency=1.0, amplitude=1.0):\n",
    "    # Create an array of x values from 0 to 2π\n",
    "    x = np.linspace(0, 2 * np.pi, 500)\n",
    "    \n",
    "    # Generate y values for sine and cosine based on frequency and amplitude\n",
    "    sine_wave = amplitude * np.sin(frequency * x)\n",
    "    cosine_wave = amplitude * np.cos(frequency * x)\n",
    "    \n",
    "    # Create the plot\n",
    "    plt.figure(figsize=(10, 6))\n",
    "    plt.plot(x, sine_wave, label=f'Sine wave (frequency={frequency}, amplitude={amplitude})', color='blue', lw=2)\n",
    "    plt.plot(x, cosine_wave, label=f'Cosine wave (frequency={frequency}, amplitude={amplitude})', color='red', lw=2)\n",
    "    plt.axhline(0, color='black',linewidth=0.5)\n",
    "    \n",
    "    # Add labels and legend\n",
    "    plt.title('Interactive Sine and Cosine Waves')\n",
    "    plt.xlabel('x')\n",
    "    plt.ylabel('y')\n",
    "    plt.legend(loc='upper right')\n",
    "    \n",
    "    # Display the plot\n",
    "    plt.grid(True)\n",
    "    plt.show()\n",
    "\n",
    "# Interactive widget with sliders for frequency and amplitude\n",
    "interact(\n",
    "    plot_sine_cosine,\n",
    "    frequency=FloatSlider(value=1.0, min=0.1, max=10.0, step=0.1, description='Frequency'),\n",
    "    amplitude=FloatSlider(value=1.0, min=0.1, max=5.0, step=0.1, description='Amplitude')\n",
    ")"
   ]
  },
  {
   "cell_type": "code",
   "execution_count": 24,
   "id": "14bec01a-b436-4fd6-8bec-4e37473043a1",
   "metadata": {},
   "outputs": [
    {
     "data": {
      "application/vnd.jupyter.widget-view+json": {
       "model_id": "1bb8d395650a461c93a6158bc833d31c",
       "version_major": 2,
       "version_minor": 0
      },
      "text/plain": [
       "interactive(children=(FloatSlider(value=0.0, description='Mean X', max=3.0, min=-3.0), FloatSlider(value=0.0, …"
      ]
     },
     "metadata": {},
     "output_type": "display_data"
    },
    {
     "data": {
      "text/plain": [
       "<function __main__.plot_gaussian(mean_x=0.0, mean_y=0.0, std_x=1.0, std_y=1.0)>"
      ]
     },
     "execution_count": 24,
     "metadata": {},
     "output_type": "execute_result"
    }
   ],
   "source": [
    "import numpy as np\n",
    "import matplotlib.pyplot as plt\n",
    "from ipywidgets import interact, FloatSlider\n",
    "\n",
    "# Function to plot the 2D Gaussian distribution\n",
    "def plot_gaussian(mean_x=0.0, mean_y=0.0, std_x=1.0, std_y=1.0):\n",
    "    # Create a grid of x and y values\n",
    "    x = np.linspace(-5, 5, 100)\n",
    "    y = np.linspace(-5, 5, 100)\n",
    "    x, y = np.meshgrid(x, y)\n",
    "    \n",
    "    # Compute the 2D Gaussian function\n",
    "    z = np.exp(-((x - mean_x) ** 2 / (2 * std_x ** 2) + (y - mean_y) ** 2 / (2 * std_y ** 2)))\n",
    "    \n",
    "    # Create the plot\n",
    "    plt.figure(figsize=(8, 6))\n",
    "    contour = plt.contourf(x, y, z, levels=50, cmap='viridis')\n",
    "    plt.colorbar(contour)\n",
    "    \n",
    "    # Add labels and title\n",
    "    plt.title(f'2D Gaussian Distribution (mean_x={mean_x}, mean_y={mean_y}, std_x={std_x}, std_y={std_y})')\n",
    "    plt.xlabel('x')\n",
    "    plt.ylabel('y')\n",
    "    \n",
    "    # Show the plot\n",
    "    plt.show()\n",
    "\n",
    "# Interactive widget with sliders for mean and standard deviation\n",
    "interact(\n",
    "    plot_gaussian,\n",
    "    mean_x=FloatSlider(value=0.0, min=-3.0, max=3.0, step=0.1, description='Mean X'),\n",
    "    mean_y=FloatSlider(value=0.0, min=-3.0, max=3.0, step=0.1, description='Mean Y'),\n",
    "    std_x=FloatSlider(value=1.0, min=0.1, max=2.5, step=0.1, description='Std Dev X'),\n",
    "    std_y=FloatSlider(value=1.0, min=0.1, max=2.5, step=0.1, description='Std Dev Y')\n",
    ")"
   ]
  },
  {
   "cell_type": "code",
   "execution_count": 25,
   "id": "6158f7e3-9688-42ce-9a43-58067c7d8d1c",
   "metadata": {},
   "outputs": [
    {
     "data": {
      "application/vnd.jupyter.widget-view+json": {
       "model_id": "6ef1f1eccea04a36b38cdde489248f73",
       "version_major": 2,
       "version_minor": 0
      },
      "text/plain": [
       "interactive(children=(FloatSlider(value=0.0, description='X Center', max=2.0, min=-2.0, step=0.01), FloatSlide…"
      ]
     },
     "metadata": {},
     "output_type": "display_data"
    },
    {
     "data": {
      "text/plain": [
       "<function __main__.plot_mandelbrot(x_center=0.0, y_center=0.0, zoom=1.0, max_iter=100)>"
      ]
     },
     "execution_count": 25,
     "metadata": {},
     "output_type": "execute_result"
    }
   ],
   "source": [
    "import numpy as np\n",
    "import matplotlib.pyplot as plt\n",
    "from ipywidgets import interact, FloatSlider, IntSlider\n",
    "\n",
    "# Function to plot the Mandelbrot set\n",
    "def mandelbrot(c, max_iter):\n",
    "    z = c\n",
    "    for n in range(max_iter):\n",
    "        if abs(z) > 2:\n",
    "            return n\n",
    "        z = z * z + c\n",
    "    return max_iter\n",
    "\n",
    "# Function to create the Mandelbrot image\n",
    "def plot_mandelbrot(x_center=0.0, y_center=0.0, zoom=1.0, max_iter=100):\n",
    "    # Define the plot limits based on zoom and center position\n",
    "    x_min, x_max = x_center - 1.5 / zoom, x_center + 1.5 / zoom\n",
    "    y_min, y_max = y_center - 1.5 / zoom, y_center + 1.5 / zoom\n",
    "    \n",
    "    width, height = 800, 800\n",
    "    x_vals = np.linspace(x_min, x_max, width)\n",
    "    y_vals = np.linspace(y_min, y_max, height)\n",
    "    \n",
    "    # Create an empty array for storing the Mandelbrot image\n",
    "    mandelbrot_image = np.empty((width, height))\n",
    "    \n",
    "    # Generate the Mandelbrot set by iterating over each pixel\n",
    "    for i, x in enumerate(x_vals):\n",
    "        for j, y in enumerate(y_vals):\n",
    "            c = complex(x, y)\n",
    "            mandelbrot_image[j, i] = mandelbrot(c, max_iter)\n",
    "    \n",
    "    # Plot the Mandelbrot set\n",
    "    plt.figure(figsize=(8, 8))\n",
    "    plt.imshow(mandelbrot_image.T, extent=[x_min, x_max, y_min, y_max], cmap='inferno', origin='lower')\n",
    "    plt.colorbar(label='Iterations')\n",
    "    plt.title(f'Mandelbrot Set (center=({x_center}, {y_center}), zoom={zoom}, max_iter={max_iter})')\n",
    "    plt.xlabel('Re(c)')\n",
    "    plt.ylabel('Im(c)')\n",
    "    plt.show()\n",
    "\n",
    "# Interactive widget to explore the Mandelbrot set\n",
    "interact(\n",
    "    plot_mandelbrot,\n",
    "    x_center=FloatSlider(value=0.0, min=-2.0, max=2.0, step=0.01, description='X Center'),\n",
    "    y_center=FloatSlider(value=0.0, min=-2.0, max=2.0, step=0.01, description='Y Center'),\n",
    "    zoom=FloatSlider(value=1.0, min=0.1, max=10.0, step=0.1, description='Zoom'),\n",
    "    max_iter=IntSlider(value=100, min=50, max=500, step=10, description='Max Iter')\n",
    ")"
   ]
  },
  {
   "cell_type": "code",
   "execution_count": 26,
   "id": "fff53d93-1c19-4823-bd35-ac7a166d228e",
   "metadata": {},
   "outputs": [
    {
     "data": {
      "application/vnd.jupyter.widget-view+json": {
       "model_id": "82b189fc7c8845048c0076ed01f53cf9",
       "version_major": 2,
       "version_minor": 0
      },
      "text/plain": [
       "interactive(children=(Dropdown(description='Function', options=('sine', 'gaussian', 'paraboloid'), value='sine…"
      ]
     },
     "metadata": {},
     "output_type": "display_data"
    },
    {
     "data": {
      "text/plain": [
       "<function __main__.plot_3d_surface(function='sine', amplitude=1.0, frequency=1.0)>"
      ]
     },
     "execution_count": 26,
     "metadata": {},
     "output_type": "execute_result"
    }
   ],
   "source": [
    "import numpy as np\n",
    "import matplotlib.pyplot as plt\n",
    "from mpl_toolkits.mplot3d import Axes3D\n",
    "from ipywidgets import interact, FloatSlider, Dropdown\n",
    "\n",
    "# Function to generate and plot 3D surface based on function type\n",
    "def plot_3d_surface(function='sine', amplitude=1.0, frequency=1.0):\n",
    "    # Create a grid of x and y values\n",
    "    x = np.linspace(-5, 5, 100)\n",
    "    y = np.linspace(-5, 5, 100)\n",
    "    x, y = np.meshgrid(x, y)\n",
    "\n",
    "    # Select function type and generate corresponding z values\n",
    "    if function == 'sine':\n",
    "        z = amplitude * np.sin(frequency * np.sqrt(x**2 + y**2))\n",
    "    elif function == 'gaussian':\n",
    "        z = amplitude * np.exp(-(x**2 + y**2) * frequency)\n",
    "    elif function == 'paraboloid':\n",
    "        z = amplitude * (x**2 + y**2)\n",
    "    else:\n",
    "        z = np.zeros_like(x)\n",
    "    \n",
    "    # Create the plot\n",
    "    fig = plt.figure(figsize=(10, 8))\n",
    "    ax = fig.add_subplot(111, projection='3d')\n",
    "\n",
    "    # Plot the surface\n",
    "    ax.plot_surface(x, y, z, cmap='viridis', edgecolor='none')\n",
    "    \n",
    "    # Set labels and title\n",
    "    ax.set_title(f'3D Surface Plot - {function.capitalize()} (Amplitude={amplitude}, Frequency={frequency})')\n",
    "    ax.set_xlabel('X')\n",
    "    ax.set_ylabel('Y')\n",
    "    ax.set_zlabel('Z')\n",
    "    \n",
    "    # Show the plot\n",
    "    plt.show()\n",
    "\n",
    "# Interactive widget with dropdown for function selection and sliders for parameters\n",
    "interact(\n",
    "    plot_3d_surface,\n",
    "    function=Dropdown(options=['sine', 'gaussian', 'paraboloid'], value='sine', description='Function'),\n",
    "    amplitude=FloatSlider(value=1.0, min=0.1, max=5.0, step=0.1, description='Amplitude'),\n",
    "    frequency=FloatSlider(value=1.0, min=0.1, max=5.0, step=0.1, description='Frequency')\n",
    ")"
   ]
  },
  {
   "cell_type": "code",
   "execution_count": null,
   "id": "dbf5fda1-eadd-4c36-a8a1-52835686ff54",
   "metadata": {},
   "outputs": [],
   "source": []
  }
 ],
 "metadata": {
  "kernelspec": {
   "display_name": "Python 3 (ipykernel)",
   "language": "python",
   "name": "python3"
  },
  "language_info": {
   "codemirror_mode": {
    "name": "ipython",
    "version": 3
   },
   "file_extension": ".py",
   "mimetype": "text/x-python",
   "name": "python",
   "nbconvert_exporter": "python",
   "pygments_lexer": "ipython3",
   "version": "3.12.4"
  }
 },
 "nbformat": 4,
 "nbformat_minor": 5
}
