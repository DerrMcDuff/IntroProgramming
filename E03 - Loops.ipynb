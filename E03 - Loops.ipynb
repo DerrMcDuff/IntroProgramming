{
 "cells": [
  {
   "cell_type": "code",
   "execution_count": 2,
   "id": "ca1c1d8c-8898-4f7a-b517-5b492bb90f9c",
   "metadata": {},
   "outputs": [
    {
     "name": "stdout",
     "output_type": "stream",
     "text": [
      "6\n"
     ]
    }
   ],
   "source": [
    "valeur = 5\n",
    "valeur = valeur +1\n",
    "print(valeur)"
   ]
  },
  {
   "cell_type": "code",
   "execution_count": 14,
   "id": "003c9e6d-0d68-4821-ad52-6a1450899466",
   "metadata": {},
   "outputs": [
    {
     "name": "stdout",
     "output_type": "stream",
     "text": [
      "[4, 5, 6, 7, 8]\n",
      "7\n",
      "6\n"
     ]
    }
   ],
   "source": [
    "suite = [4,5,6,7,8]\n",
    "print(suite)\n",
    "print(suite[3])\n",
    "print(suite[2])"
   ]
  },
  {
   "cell_type": "code",
   "execution_count": 16,
   "id": "771229e7-bf87-4d63-bf2b-4e3c1505b15a",
   "metadata": {},
   "outputs": [
    {
     "data": {
      "text/plain": [
       "'elephant'"
      ]
     },
     "execution_count": 16,
     "metadata": {},
     "output_type": "execute_result"
    }
   ],
   "source": [
    "animaux = [\"chat\",\"rat\",\"elephant\"]\n",
    "animaux[2]"
   ]
  },
  {
   "cell_type": "code",
   "execution_count": 6,
   "id": "be85e16c-aaac-4978-9929-3618249022dc",
   "metadata": {},
   "outputs": [
    {
     "name": "stdout",
     "output_type": "stream",
     "text": [
      "1\n",
      "2\n",
      "3\n",
      "4\n"
     ]
    }
   ],
   "source": [
    "# Imprimer les valeurs de 0 à 10\n",
    "print(1)\n",
    "print(2)\n",
    "print(3)\n",
    "print(4)"
   ]
  },
  {
   "cell_type": "code",
   "execution_count": 7,
   "id": "8ddb3172-9d4b-4012-846d-6d408de2421b",
   "metadata": {},
   "outputs": [
    {
     "name": "stdout",
     "output_type": "stream",
     "text": [
      "0\n",
      "1\n",
      "2\n",
      "3\n",
      "4\n",
      "5\n"
     ]
    }
   ],
   "source": [
    "# Imprimer les valeurs de 1 à 10 avec une loop\n",
    "for i in range(6):\n",
    "    print(i)"
   ]
  },
  {
   "cell_type": "code",
   "execution_count": null,
   "id": "cd2a6e54-6d0f-48d1-b64b-8f5596d53ad2",
   "metadata": {},
   "outputs": [],
   "source": []
  }
 ],
 "metadata": {
  "kernelspec": {
   "display_name": "Python 3 (ipykernel)",
   "language": "python",
   "name": "python3"
  },
  "language_info": {
   "codemirror_mode": {
    "name": "ipython",
    "version": 3
   },
   "file_extension": ".py",
   "mimetype": "text/x-python",
   "name": "python",
   "nbconvert_exporter": "python",
   "pygments_lexer": "ipython3",
   "version": "3.12.6"
  }
 },
 "nbformat": 4,
 "nbformat_minor": 5
}
