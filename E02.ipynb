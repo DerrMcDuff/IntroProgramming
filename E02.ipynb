{
 "cells": [
  {
   "cell_type": "markdown",
   "id": "36990bb0-50a5-477a-a1cb-77111ccc8a91",
   "metadata": {},
   "source": [
    "# Exercices\n",
    "\n",
    "### Qu'est-ce qu'une fonction?\n",
    "\n",
    "```python\n",
    "def nom_de_la_fonction(a:int, b:int) -> int:\n",
    "    return a+b\n",
    "\n",
    "```\n",
    "\n",
    "* `def`: Mot-clé pour commencer la **déf**inition d'une fonction\n",
    "* `nomDeLaFonction`: **Nom de la fonction**. Utiliser les `_` au lieu des espaces\n",
    "* `a` et `b`: **Paramètres** de la fonction\n",
    "* `:int`: **Type** du paramètre\n",
    "* `-> str`: **Type de retour** de la fonction\n",
    "* `return`: **Retourne** la réponse de la fonction\n"
   ]
  },
  {
   "cell_type": "markdown",
   "id": "0404093a-bc3c-458c-8daa-88f15156c3af",
   "metadata": {},
   "source": [
    "## 1.A\n",
    "Programme une fonction qui retourne toujours le texte `\"Bonjour\"`"
   ]
  },
  {
   "cell_type": "code",
   "execution_count": 4,
   "id": "ec548511-7903-4ce6-bbd9-cdf2bab5108c",
   "metadata": {},
   "outputs": [
    {
     "data": {
      "text/plain": [
       "'Bonjour'"
      ]
     },
     "execution_count": 4,
     "metadata": {},
     "output_type": "execute_result"
    }
   ],
   "source": [
    "def exa():\n",
    "    return \"Bonjour\"\n",
    "\n",
    "exa()"
   ]
  },
  {
   "cell_type": "markdown",
   "id": "ef75c61f-076c-486a-af3b-85cc26495d33",
   "metadata": {},
   "source": [
    "## 1.B\n",
    "Programme une fonction qui prends **un texte en paramètre** et **retourne le texte `\"Bonjour \"` suivit du texte en paramètre**\n",
    "\n",
    "Ex: Si la fonction reçoit `\"Balthazar\"`, elle retourne `\"Bonjour Balthazar\"`"
   ]
  },
  {
   "cell_type": "code",
   "execution_count": 6,
   "id": "c7aee91b-122e-49ad-bc3d-52a063b7964e",
   "metadata": {},
   "outputs": [
    {
     "data": {
      "text/plain": [
       "'Bonjour Dereck'"
      ]
     },
     "execution_count": 6,
     "metadata": {},
     "output_type": "execute_result"
    }
   ],
   "source": [
    "def xp(texte:str):\n",
    "    return \"Bonjour \"+texte\n",
    "\n",
    "xp(\"\")"
   ]
  },
  {
   "cell_type": "markdown",
   "id": "5ec61cea-5b95-49be-81fd-0800aee9932f",
   "metadata": {},
   "source": [
    "## 2.\n",
    "Programme une fonction qui prends **un nombre en paramètre** et qui **retourne ce nombre en y ajoutant 3**.\n",
    "\n",
    "Ex: Si l'argument est `6`, la fonctione retournera `9`."
   ]
  },
  {
   "cell_type": "code",
   "execution_count": null,
   "id": "fd1890d9-47cb-44d6-836a-929c2183465c",
   "metadata": {},
   "outputs": [],
   "source": []
  },
  {
   "cell_type": "markdown",
   "id": "4a6c231e-ddcc-4c7f-8856-f803d0c548d1",
   "metadata": {},
   "source": [
    "## 3.\n",
    "Programme une fonction qui prends **deux nombres en paramètre** et **retourne la soustraction des deux nombres**."
   ]
  },
  {
   "cell_type": "code",
   "execution_count": null,
   "id": "cf14bee8-f9cc-496a-b40e-472da8f2ad5e",
   "metadata": {},
   "outputs": [],
   "source": []
  },
  {
   "cell_type": "markdown",
   "id": "10b96655-a530-459f-ab51-ae6abcb68e7f",
   "metadata": {},
   "source": [
    "## 4.\n",
    "Programme une fonction qui prends **un booléen en paramètre** et **retourne le texte `\"oui\"` si le booléen est vrai et `\"non\"` autrement\"**."
   ]
  },
  {
   "cell_type": "code",
   "execution_count": null,
   "id": "a505e41d-24b7-40c0-861c-0ab4c7235a76",
   "metadata": {},
   "outputs": [],
   "source": []
  },
  {
   "cell_type": "markdown",
   "id": "24ddb1f1-567e-4500-b0c9-eeb51099b5c9",
   "metadata": {},
   "source": [
    "## 5.\n",
    "Programme une fonction qui prends **un nombre et un texte en paramètre** et **retourne vrai si la longueur du texte est égale au nombre**."
   ]
  },
  {
   "cell_type": "code",
   "execution_count": null,
   "id": "b3c6e488-38c5-4440-95a3-62a79a4ee65f",
   "metadata": {},
   "outputs": [],
   "source": []
  },
  {
   "cell_type": "markdown",
   "id": "d379b82a-f433-4b49-92a7-9567ca7d2c87",
   "metadata": {},
   "source": [
    "## 6.\n",
    "Programme une fonction qui prends **un nombre en paramètre** et **retourne `\"Echo\"` repété le nombre de fois correspondant à ce nombre**.\n",
    "\n",
    "Ex: Si le nombre est `4`, elle retourne `\"EchoEchoEchoEcho\"`"
   ]
  },
  {
   "cell_type": "code",
   "execution_count": null,
   "id": "ab36406b-29ef-4b3c-84b8-7248988b6701",
   "metadata": {},
   "outputs": [],
   "source": []
  },
  {
   "cell_type": "markdown",
   "id": "682f9714-fda5-4e15-aee5-33167bc41225",
   "metadata": {},
   "source": [
    "## 7.\n",
    "Programme une fonction qui prends **deux nombres en paramètre** et **retourne le premier nombre divisé par le deuxième**.\n",
    "\n",
    "Ex: Si la fonction reçoit `6` et `3`, elle retourne `2`\n",
    "Ex: Si la fonction reçoit `3` et `2`, elle retourne `1.5`"
   ]
  },
  {
   "cell_type": "code",
   "execution_count": null,
   "id": "2a4c73b9-c91e-4c70-848e-a49926af1372",
   "metadata": {},
   "outputs": [],
   "source": []
  },
  {
   "cell_type": "markdown",
   "id": "42431a72-df2c-469a-a32c-e3a141578b2f",
   "metadata": {},
   "source": [
    "## 8.\n",
    "Programme une fonction qui prends **un nombre en paramètre** et **retourne vrai si ce nombre est pair**.\n",
    "\n",
    "- Ex: Si la fonction reçoit `5`, elle retourne `False`\n",
    "- Ex: Si la fonction reçoit `2`, elle retourne `True`"
   ]
  },
  {
   "cell_type": "code",
   "execution_count": null,
   "id": "1aab5f06-72cb-433c-96d6-36ef2243d6f7",
   "metadata": {},
   "outputs": [],
   "source": []
  },
  {
   "cell_type": "markdown",
   "id": "ed0b0534-9e07-474e-9f8f-474b7ffa228c",
   "metadata": {},
   "source": [
    "## 9.A\n",
    "Programme une fonction qui prends un nombre en paramètre et retourne\n",
    "- `\"cest trop haut\"` si le nombre est plus haut que 100\n",
    "- `\"cest trop bas\"` si le nombre est plus bas que 1\n",
    "- `\"pair\"` si le nombre est pair\n",
    "- `\"impair\"` si le nombre est impair"
   ]
  },
  {
   "cell_type": "code",
   "execution_count": null,
   "id": "aab95d3f-a468-4fea-9125-a655138d5806",
   "metadata": {},
   "outputs": [],
   "source": []
  },
  {
   "cell_type": "markdown",
   "id": "390fa5fb-3923-4267-bdd1-71f81caf5e50",
   "metadata": {},
   "source": [
    "## 9.B\n",
    "Réécrire la fonction précédente en utilisant un `match case`. Le `match case` est décrit dans le document `Python Base`"
   ]
  },
  {
   "cell_type": "markdown",
   "id": "f47fe65e-5754-4d14-af94-2e587df36919",
   "metadata": {},
   "source": [
    "## 11.\n",
    "Programme une fonction qui prends un nombre en paramètre et retourne le même nombre mais en texte. \n",
    "\n",
    "Indice: chercher \"int en str python\" sur google\n",
    "\n",
    "Ex: Si la fonction reçoit `24`, elle retourne `\"24\"`"
   ]
  },
  {
   "cell_type": "code",
   "execution_count": null,
   "id": "afdfabeb-7118-4b3b-990b-1ac741b2391b",
   "metadata": {},
   "outputs": [],
   "source": []
  },
  {
   "cell_type": "markdown",
   "id": "4cfc2698-e1e4-4558-af68-25e746e727e0",
   "metadata": {},
   "source": [
    "## 12.\n",
    "Programme une fonction qui prends un nombre en paramètre et retourne\n",
    "\n",
    "- `\"divisible par 3\"` si le nombre est divisible par 3\n",
    "- `\"divisible par 5\"` si le nombre est divisible par 5\n",
    "- `\"WOW\"` si le nombre est divisible **par 3 et par 5**\n",
    "- `\"aucun\"` dans les autres cas"
   ]
  },
  {
   "cell_type": "code",
   "execution_count": null,
   "id": "090b8c3e-cd61-42a1-9a81-0cf702ab2bd1",
   "metadata": {},
   "outputs": [],
   "source": []
  },
  {
   "cell_type": "markdown",
   "id": "701283dc-029e-4b29-a9b5-f5ec8e7ed52c",
   "metadata": {},
   "source": [
    "## 13.A\n",
    "Programme une fonction qui prends **un texte en paramètre** et **vérifie si ce texte est dans celui de la variable `description` en retournant vrai si c'est le cas**"
   ]
  },
  {
   "cell_type": "code",
   "execution_count": 10,
   "id": "aa97399c-6c05-40d5-a66e-8ca76ce2df44",
   "metadata": {},
   "outputs": [],
   "source": [
    "description = \"Après la récolte, les noix de cajou doivent être séparées de la pomme en veillant à ne pas laisser de pulpe de la pomme sur la noix. On laisse ensuite sécher les noix trois à quatre jours sur un sol propre et à l'ombre car le plein soleil entraînerait une imprégnation d'huile toxique dans la graine.\"\n",
    "\n"
   ]
  },
  {
   "cell_type": "markdown",
   "id": "f81c1a85-4966-4243-8063-066b922d7bf7",
   "metadata": {},
   "source": [
    "## 13.B\n",
    "Programme une fonction **identique à la dernière fonction mais qui vérifie que le texte en paramètre ne soit pas plus long qu'un caractère**. Si le texte est plus long, un message est imprimé pour avertir grâce à la fonction print() et on retourne faux."
   ]
  },
  {
   "cell_type": "code",
   "execution_count": 11,
   "id": "64ba3a5e-e0ed-4bc5-aeae-0bb6fd2da13b",
   "metadata": {},
   "outputs": [],
   "source": [
    "description = \"Après la récolte, les noix de cajou doivent être séparées de la pomme en veillant à ne pas laisser de pulpe de la pomme sur la noix. On laisse ensuite sécher les noix trois à quatre jours sur un sol propre et à l'ombre car le plein soleil entraînerait une imprégnation d'huile toxique dans la graine.\"\n",
    "\n"
   ]
  },
  {
   "cell_type": "markdown",
   "id": "1a3c2446-0f01-4e98-8ccb-64fecb0e3d39",
   "metadata": {},
   "source": [
    "## 14\n",
    "Programme une fonction qui prends un nombre en paramètre et qui imprime les nombres de 0 jusqu'au nombre donné en paramètre. La fonctione ne retourne rien.\n",
    "\n",
    "Indice: Utilisez print() pour imprimer un nombre et utilisez les boucles \"For in\" tel que décrit dans le fichier `Python Base`"
   ]
  },
  {
   "cell_type": "code",
   "execution_count": null,
   "id": "285f5c85-e9b3-4c98-986d-1b526b717946",
   "metadata": {},
   "outputs": [],
   "source": []
  }
 ],
 "metadata": {
  "kernelspec": {
   "display_name": "Python 3 (ipykernel)",
   "language": "python",
   "name": "python3"
  },
  "language_info": {
   "codemirror_mode": {
    "name": "ipython",
    "version": 3
   },
   "file_extension": ".py",
   "mimetype": "text/x-python",
   "name": "python",
   "nbconvert_exporter": "python",
   "pygments_lexer": "ipython3",
   "version": "3.12.6"
  }
 },
 "nbformat": 4,
 "nbformat_minor": 5
}
