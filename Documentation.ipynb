{
 "cells": [
  {
   "cell_type": "markdown",
   "id": "e12515a4-945d-49dd-94ae-a70053f70db5",
   "metadata": {},
   "source": [
    "# Documentation"
   ]
  },
  {
   "cell_type": "markdown",
   "id": "3ec19fd8-53e4-4951-8771-7ef442a1f0f8",
   "metadata": {},
   "source": [
    "## 1. Les variables"
   ]
  },
  {
   "cell_type": "markdown",
   "id": "9983abaa-ddd2-4b9b-93f5-3255520b340c",
   "metadata": {},
   "source": [
    "Une variable est un élément avec nom qui contient une valeur.\n",
    "\n",
    "> métaphore: c'est un casier dans lequel tu peux y ranger quelque chose."
   ]
  },
  {
   "cell_type": "markdown",
   "id": "b39797f2-eaf6-456b-9def-5007540b7241",
   "metadata": {},
   "source": [
    "### Types\n",
    "\n",
    "* `bool` peuvent avoir les valeurs suivantes:\n",
    "  * `True`: Vrai\n",
    "  * `False`: Faux\n",
    "* `str`: Texte\n",
    "* `int`: Nombres\n",
    "* `list`: Liste d'élément\n",
    "  * On met le type des éléments de la liste entre crochets ainsi `[int]`, `[bool]`, etc.\n",
    "    \n",
    "\n",
    "> note: les majuscules sont importantes! `True` est valide, mais pas `true`"
   ]
  },
  {
   "cell_type": "code",
   "execution_count": 35,
   "id": "eb98d736-93d2-414d-aa53-955b278dcb4b",
   "metadata": {},
   "outputs": [
    {
     "name": "stdout",
     "output_type": "stream",
     "text": [
      "type: <class 'bool'>\n",
      "valeur: True\n"
     ]
    }
   ],
   "source": [
    "a:bool = True\n",
    "b:bool = False\n",
    "c:str = \"Les carottes sont cuites!\"\n",
    "d:int = 6\n",
    "e:[int] = [3,4,6,8]\n",
    "f:[str] = [\"tortue\",\"lièvre\",\"pédalo\"]\n",
    "\n",
    "def imprimerValeurEtType(maVariable):\n",
    "    print(\"type: \" + str(type(maVariable)))\n",
    "    print(\"valeur: \" + str(maVariable))\n",
    "\n",
    "# Imprime ce que tu veux ici! Ça va apparaitre en dessous en executant la cellule!\n",
    "imprimerValeurEtType(a)"
   ]
  },
  {
   "cell_type": "markdown",
   "id": "1a6595e3-db6a-4915-ab09-b1c8708c3ae6",
   "metadata": {},
   "source": [
    "## 2. Les opérations"
   ]
  },
  {
   "cell_type": "markdown",
   "id": "5d8adf05-c390-4daa-a24a-ec0a3cd60a3e",
   "metadata": {},
   "source": [
    "### Opérations mathématiques\n",
    "\n",
    "* `+`\n",
    "* `-`\n",
    "* `*`\n",
    "* `/`\n",
    "\n",
    "### Opérations de comparaison\n",
    "\n",
    "* `==`: est égal à\n",
    "* `!=`: n'est pas égal à\n",
    "* `>`: est plus grand que\n",
    "* `<`: est plus petit que\n",
    "* `>=`: est plus grand ou égal à\n",
    "* `<=`: est plus petit ou égal à\n",
    "\n",
    "### Opérations de logique\n",
    "\n",
    "* `and`: et\n",
    "* `or`: ou\n",
    "* `not`: pas\n",
    "\n",
    "<br />\n",
    "\n",
    "---\n",
    "> Plus d'informations ici: https://www.w3schools.com/python/python_operators.asp"
   ]
  },
  {
   "cell_type": "markdown",
   "id": "a1dcdbce-88eb-4e88-b837-c7bfb65c1425",
   "metadata": {},
   "source": [
    "## 3. Les fonctions\n",
    "\n",
    "Une fonction est bloc de code pouvant être réutilisé. Elle possède des paramètres en entré et retourne souvent un résultat."
   ]
  },
  {
   "cell_type": "code",
   "execution_count": 5,
   "id": "568904db-efac-4a35-9a77-64e9572a636c",
   "metadata": {},
   "outputs": [],
   "source": [
    "def nom_de_la_fonction(a:int, b:int) -> int:\n",
    "    return a+b"
   ]
  },
  {
   "cell_type": "markdown",
   "id": "b6bc75b9-2fe8-4511-a941-636457de1204",
   "metadata": {},
   "source": [
    "* `def`: Mot-clé pour commencer la **déf**inition d'une fonction\n",
    "* `nomDeLaFonction`: Nom de la fonction. Utiliser les `_` au lieu des espaces\n",
    "* `a` et `b`: **Paramètres** de la fonction\n",
    "* `:int`: Précision sur le **type** du paramètre\n",
    "* `-> str`: Précision sur le **type** que la fonction retourne\n",
    "* `return`: Mot-clé pour retourner une valeur"
   ]
  },
  {
   "cell_type": "markdown",
   "id": "3087c5eb-de5a-48d2-963a-c5b5a8e87daf",
   "metadata": {},
   "source": [
    "## 4. Les conditions"
   ]
  },
  {
   "cell_type": "markdown",
   "id": "292a6277-ab09-4924-9f74-c61831416eda",
   "metadata": {},
   "source": [
    "### If\n",
    "``` python\n",
    "if ([condition]):\n",
    "    [action]\n",
    "```\n",
    "Execute la l'action si la condition est vraie"
   ]
  },
  {
   "cell_type": "code",
   "execution_count": 27,
   "id": "735b449f-4ab9-4282-b572-bc1fce5c501f",
   "metadata": {},
   "outputs": [
    {
     "name": "stdout",
     "output_type": "stream",
     "text": [
      "4 == 4 est vrai\n",
      "4 < 10 est vrai\n"
     ]
    }
   ],
   "source": [
    "if (4 == 4):\n",
    "    print(\"4 == 4 est vrai\")\n",
    "\n",
    "if (4 < 10):\n",
    "    print(\"4 < 10 est vrai\")\n",
    "    \n",
    "if (4 == 10000000000):\n",
    "    print(\"a == 10000000000 n'est pas vrai\")"
   ]
  },
  {
   "cell_type": "markdown",
   "id": "0e3e9eec-a81f-48c4-94a8-276aca0c217d",
   "metadata": {},
   "source": [
    "### If else\n",
    "```python\n",
    "if ([condition]):\n",
    "    [action A]\n",
    "else:\n",
    "    [action B]\n",
    "```\n",
    "Execute la l'action A si la condition est vraie. Sinon execute l'action B"
   ]
  },
  {
   "cell_type": "code",
   "execution_count": 28,
   "id": "acc8d3f2-6b20-4f6b-adf4-e931f0b8ebb4",
   "metadata": {},
   "outputs": [
    {
     "name": "stdout",
     "output_type": "stream",
     "text": [
      "Sinon ceci sera imprimé\n"
     ]
    }
   ],
   "source": [
    "#Exemple\n",
    "maCondition = 1 == 2\n",
    "if (maCondition):\n",
    "    print(\"Si la condition est vraie, ceci sera imprimé\")\n",
    "else:\n",
    "    print(\"Sinon ceci sera imprimé\")    "
   ]
  },
  {
   "cell_type": "markdown",
   "id": "0ea085a5-c793-4beb-b47b-5ed310f1d8c8",
   "metadata": {},
   "source": [
    "### Match case\n",
    "```python\n",
    "match [variable]:\n",
    "    case [cas A]:\n",
    "        [action A]\n",
    "    case [cas B]:\n",
    "        [action B]\n",
    "    # ...\n",
    "    case _:\n",
    "        [action par défaut]\n",
    "```\n",
    "Compare `[variable]` avec les différents cas (`cas A`, `cas B`, etc.). Si la comparaison est vrai, l'action associée est executé. Si aucune des comparaisons est réussie, l'action du `case _` est executée par défaut."
   ]
  },
  {
   "cell_type": "code",
   "execution_count": 29,
   "id": "d0ceff61-e686-4431-9263-6dd15a3f14d5",
   "metadata": {},
   "outputs": [
    {
     "name": "stdout",
     "output_type": "stream",
     "text": [
      "maVariable est égale à 4\n"
     ]
    }
   ],
   "source": [
    "#Exemple\n",
    "maVariable = 4\n",
    "match maVariable:\n",
    "        case 3:\n",
    "            print(\"maVariable est égale à 3\")\n",
    "        case 4:\n",
    "            print(\"maVariable est égale à 4\")\n",
    "        case _:\n",
    "            print(\"maVariable ne remplie aucune des conditions ci-dessus\")"
   ]
  },
  {
   "cell_type": "markdown",
   "id": "cd462dd2-864c-4903-a1af-c94e5fc47e57",
   "metadata": {},
   "source": [
    "## 5. Les boucles\n",
    "\n",
    "### For In\n",
    "\n",
    "```python\n",
    "for [element] in [collection]:\n",
    "    [action]\n",
    "```\n",
    "\n",
    "Répète l'action `[action]` avec chaque élément `[élément]` de la collection d'éléments `[collection]`"
   ]
  },
  {
   "cell_type": "code",
   "execution_count": 42,
   "id": "520f320d-4199-4b28-ac4d-09c0621423dd",
   "metadata": {},
   "outputs": [
    {
     "name": "stdout",
     "output_type": "stream",
     "text": [
      "Cette boucle imprime le numéro: 1\n",
      "Cette boucle imprime le numéro: 10\n",
      "Cette boucle imprime le numéro: 100\n"
     ]
    }
   ],
   "source": [
    "#Exemple 1\n",
    "numeros = [1,10,100]\n",
    "for numero in numeros:\n",
    "    print(\"Cette boucle imprime le numéro: \"+str(numero))"
   ]
  },
  {
   "cell_type": "code",
   "execution_count": 43,
   "id": "835d9d0c-7e4f-406b-a36d-d84631a472b3",
   "metadata": {},
   "outputs": [
    {
     "name": "stdout",
     "output_type": "stream",
     "text": [
      "Cette boucle est à l'index: 0\n",
      "Cette boucle est à l'index: 1\n",
      "Cette boucle est à l'index: 2\n",
      "Cette boucle est à l'index: 3\n",
      "Cette boucle est à l'index: 4\n",
      "Cette boucle est à l'index: 5\n"
     ]
    }
   ],
   "source": [
    "#Exemple 1\n",
    "for index in range(6):\n",
    "    print(\"Cette boucle est à l'index: \"+str(index))"
   ]
  }
 ],
 "metadata": {
  "kernelspec": {
   "display_name": "Python 3 (ipykernel)",
   "language": "python",
   "name": "python3"
  },
  "language_info": {
   "codemirror_mode": {
    "name": "ipython",
    "version": 3
   },
   "file_extension": ".py",
   "mimetype": "text/x-python",
   "name": "python",
   "nbconvert_exporter": "python",
   "pygments_lexer": "ipython3",
   "version": "3.12.4"
  }
 },
 "nbformat": 4,
 "nbformat_minor": 5
}
