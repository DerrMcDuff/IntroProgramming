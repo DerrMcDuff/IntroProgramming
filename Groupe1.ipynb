{
 "cells": [
  {
   "cell_type": "code",
   "execution_count": 12,
   "id": "229eb12d-46e6-47ae-8d62-e3162e8c32c5",
   "metadata": {},
   "outputs": [
    {
     "name": "stdout",
     "output_type": "stream",
     "text": [
      "453873927873279870\n",
      "bonjour tout le monde\n",
      "453873927873279870\n",
      "bonjour tout le monde\n"
     ]
    }
   ],
   "source": [
    "def air_carre():\n",
    "    #shift+8\n",
    "    resultat=6*75645654645546645\n",
    "    #shift+enter\n",
    "    print(resultat)\n",
    "    print(\"bonjour tout le monde\")\n",
    "\n",
    "air_carre()\n",
    "air_carre()\n"
   ]
  },
  {
   "cell_type": "code",
   "execution_count": 1,
   "id": "5af9d414-b6ee-4908-bc0c-1a78aece6161",
   "metadata": {},
   "outputs": [
    {
     "data": {
      "text/plain": [
       "15"
      ]
     },
     "execution_count": 1,
     "metadata": {},
     "output_type": "execute_result"
    }
   ],
   "source": [
    "# shift+8 -> *\n",
    "3*5\n",
    "# shift + enter"
   ]
  },
  {
   "cell_type": "code",
   "execution_count": 16,
   "id": "3b45d567-9b69-4d6d-b85e-3df1d56f07f2",
   "metadata": {},
   "outputs": [
    {
     "name": "stdout",
     "output_type": "stream",
     "text": [
      "bonjour\n"
     ]
    }
   ],
   "source": [
    "def imprime_bonjour():\n",
    "    print(\"bonjour\")\n",
    "\n",
    "imprime_bonjour()\n"
   ]
  },
  {
   "cell_type": "code",
   "execution_count": 19,
   "id": "09871600-f449-4b93-9de8-d9aefeafd521",
   "metadata": {},
   "outputs": [
    {
     "name": "stdout",
     "output_type": "stream",
     "text": [
      "test allo\n"
     ]
    }
   ],
   "source": [
    "indice = \"allo\"\n",
    "print(\"test \"+ indice)"
   ]
  },
  {
   "cell_type": "code",
   "execution_count": 25,
   "id": "b315391e-a778-43ae-bb52-8bb548105fa5",
   "metadata": {},
   "outputs": [
    {
     "name": "stdout",
     "output_type": "stream",
     "text": [
      "bonjour dereck\n",
      "bonjour Eliel\n"
     ]
    }
   ],
   "source": [
    "def imprime_bonjour(nom):\n",
    "    print(\"bonjour \"+nom)\n",
    "\n",
    "imprime_bonjour(\"dereck\")\n",
    "# résultat attendu : Bonjour dereck\n",
    "imprime_bonjour(\"Eliel\")"
   ]
  },
  {
   "cell_type": "code",
   "execution_count": null,
   "id": "fa5d0f94-a5fd-4658-9128-a7720785621a",
   "metadata": {},
   "outputs": [],
   "source": [
    "def imprime_bonjour(nom,prenom):\n",
    "    print()"
   ]
  },
  {
   "cell_type": "code",
   "execution_count": null,
   "id": "f179c9d3-44e3-4368-8edf-8c449282f01a",
   "metadata": {},
   "outputs": [],
   "source": []
  }
 ],
 "metadata": {
  "kernelspec": {
   "display_name": "Python 3 (ipykernel)",
   "language": "python",
   "name": "python3"
  },
  "language_info": {
   "codemirror_mode": {
    "name": "ipython",
    "version": 3
   },
   "file_extension": ".py",
   "mimetype": "text/x-python",
   "name": "python",
   "nbconvert_exporter": "python",
   "pygments_lexer": "ipython3",
   "version": "3.12.6"
  }
 },
 "nbformat": 4,
 "nbformat_minor": 5
}
