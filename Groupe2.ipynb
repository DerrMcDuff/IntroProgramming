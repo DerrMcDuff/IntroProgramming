{
 "cells": [
  {
   "cell_type": "code",
   "execution_count": 2,
   "id": "f5372a64-f3d1-4a51-87d0-2d1dd477517b",
   "metadata": {},
   "outputs": [
    {
     "name": "stdout",
     "output_type": "stream",
     "text": [
      "500.0\n",
      "150.0\n"
     ]
    }
   ],
   "source": [
    "def air_triangle(base,hauteur):\n",
    "    return base*hauteur/2\n",
    "\n",
    "print(air_triangle(10,100))\n",
    "print(air_triangle(30,10))"
   ]
  },
  {
   "cell_type": "code",
   "execution_count": 3,
   "id": "19b3fb2d-fa96-4105-80b4-213290918e59",
   "metadata": {},
   "outputs": [
    {
     "data": {
      "text/plain": [
       "True"
      ]
     },
     "execution_count": 3,
     "metadata": {},
     "output_type": "execute_result"
    }
   ],
   "source": [
    "triangle1 = air_triangle(30,40)\n",
    "triangle2 = air_triangle(50,20)\n",
    "\n",
    "triangle1 >= triangle2"
   ]
  },
  {
   "cell_type": "markdown",
   "id": "383a16d5-93b3-476b-b1c9-bbb45cd7968a",
   "metadata": {},
   "source": [
    "# Les tableaux (listes)"
   ]
  },
  {
   "cell_type": "code",
   "execution_count": 17,
   "id": "104a2c2d-10d4-4e2b-8b81-90f33a99fe92",
   "metadata": {},
   "outputs": [
    {
     "name": "stdout",
     "output_type": "stream",
     "text": [
      "aaa\n",
      "bbb\n"
     ]
    }
   ],
   "source": [
    "print(listeTexte[0])\n",
    "print(listeTexte[1])"
   ]
  },
  {
   "cell_type": "code",
   "execution_count": 19,
   "id": "69b09cf0-12d3-4728-bce9-7ad9fc51b94f",
   "metadata": {},
   "outputs": [
    {
     "name": "stdout",
     "output_type": "stream",
     "text": [
      "0\n",
      "5\n",
      "6\n"
     ]
    }
   ],
   "source": [
    "nombres=[0,5,6,7,4]\n",
    "print(nombres[0])\n",
    "print(nombres[1])\n",
    "print(nombres[2])"
   ]
  },
  {
   "cell_type": "code",
   "execution_count": 23,
   "id": "3551f0a2-239e-400c-9846-17dab7c48855",
   "metadata": {},
   "outputs": [
    {
     "name": "stdout",
     "output_type": "stream",
     "text": [
      "nombre: 0\n",
      "nombre: 5\n",
      "nombre: 6\n",
      "nombre: 7\n",
      "nombre: 4\n"
     ]
    }
   ],
   "source": [
    "nombres=[0,5,6,7,4]\n",
    "for i in nombres:\n",
    "    #boucle\n",
    "    print(\"nombre: \"+str(i))"
   ]
  },
  {
   "cell_type": "code",
   "execution_count": 16,
   "id": "ac8a46f4-5d34-47be-96b2-65a9a7222013",
   "metadata": {},
   "outputs": [
    {
     "name": "stdout",
     "output_type": "stream",
     "text": [
      "[7, 4, 2, 1, 0]\n",
      "[0, 1, 2, 4, 7]\n",
      "[0, 1, 4, 7]\n",
      "[0, 1, 4, 7, 1000]\n",
      "['aaa', 'bbb', 'ccc']\n"
     ]
    }
   ],
   "source": [
    "# [ ]\n",
    "liste = [7,4,2,1,0]\n",
    "print(liste)\n",
    "liste.sort()\n",
    "print(liste)\n",
    "liste.remove(2)\n",
    "print(liste)\n",
    "liste.append(1000)\n",
    "print(liste)\n",
    "listeTexte = [\"aaa\",\"bbb\",\"ccc\"]\n",
    "print(listeTexte)"
   ]
  },
  {
   "cell_type": "code",
   "execution_count": 27,
   "id": "fe8154a9-f488-4542-904a-d5f312ac12ad",
   "metadata": {},
   "outputs": [
    {
     "name": "stdout",
     "output_type": "stream",
     "text": [
      "[0, 5, 6, 7, 4]\n",
      "[10, 15, 16, 17, 14]\n"
     ]
    }
   ],
   "source": [
    "nombres=[0,5,6,7,4]\n",
    "print(nombres)\n",
    "# ajouter 10 à chacun des nombres\n",
    "print([10,15,16,17,14])"
   ]
  },
  {
   "cell_type": "code",
   "execution_count": 35,
   "id": "fe534c0b-0741-4c7b-b53c-f8eab270881a",
   "metadata": {},
   "outputs": [
    {
     "name": "stdout",
     "output_type": "stream",
     "text": [
      "['aaa', 'bbb', 'ccc']\n",
      "bbb\n",
      "['aaa', 'nouveau', 'ccc']\n"
     ]
    }
   ],
   "source": [
    "listeTexte = [\"aaa\",\"bbb\",\"ccc\"]\n",
    "print(listeTexte)\n",
    "print(listeTexte[1])\n",
    "listeTexte[1] = \"nouveau\"\n",
    "print(listeTexte)\n",
    "for i in listeTexte:\n",
    "    ..."
   ]
  },
  {
   "cell_type": "markdown",
   "id": "8dc89fcc-ed93-4482-8928-001854770162",
   "metadata": {},
   "source": [
    "1. Créer une liste\n",
    "2. Imprimer la liste\n",
    "3. changer un élément\n",
    "4. imprimer la nouvelle liste\n",
    "5. Utiliser \"for i in nom_de_la_liste\" pour imprimer les éléments\n"
   ]
  },
  {
   "cell_type": "code",
   "execution_count": 48,
   "id": "87910ce1-5ddd-4aaf-8853-5d91bde1b996",
   "metadata": {},
   "outputs": [
    {
     "name": "stdout",
     "output_type": "stream",
     "text": [
      "9\n",
      "valeur de i: 0\n",
      "valeur de n: 10\n",
      "-----\n",
      "valeur de i: 1\n",
      "valeur de n: 5\n",
      "-----\n",
      "valeur de i: 2\n",
      "valeur de n: 6\n",
      "-----\n",
      "valeur de i: 3\n",
      "valeur de n: 7\n",
      "-----\n"
     ]
    }
   ],
   "source": [
    "liste = [9,5,6,7]\n",
    "print(liste[0])\n",
    "liste[0]=10\n",
    "for i,n in enumerate(liste):\n",
    "    print(\"valeur de i: \"+str(i))\n",
    "    print(\"valeur de n: \"+str(n))\n",
    "    print(\"-----\")\n",
    "liste = [19,15,16,17]"
   ]
  },
  {
   "cell_type": "code",
   "execution_count": 57,
   "id": "85e2133c-2a9f-4452-96fa-4710e86ad23c",
   "metadata": {},
   "outputs": [
    {
     "name": "stdout",
     "output_type": "stream",
     "text": [
      "[9, 5, 6, 7]\n",
      "[19, 15, 16, 17]\n"
     ]
    }
   ],
   "source": [
    "liste = [9,5,6,7]\n",
    "print(liste)\n",
    "for i,n in enumerate(liste):\n",
    "    liste[i] = n+10\n",
    "\n",
    "print(liste)"
   ]
  },
  {
   "cell_type": "code",
   "execution_count": null,
   "id": "cf008fd2-80ca-4ae5-97f6-df1776d8e756",
   "metadata": {},
   "outputs": [],
   "source": []
  }
 ],
 "metadata": {
  "kernelspec": {
   "display_name": "Python 3 (ipykernel)",
   "language": "python",
   "name": "python3"
  },
  "language_info": {
   "codemirror_mode": {
    "name": "ipython",
    "version": 3
   },
   "file_extension": ".py",
   "mimetype": "text/x-python",
   "name": "python",
   "nbconvert_exporter": "python",
   "pygments_lexer": "ipython3",
   "version": "3.12.6"
  }
 },
 "nbformat": 4,
 "nbformat_minor": 5
}
